{
  "nbformat": 4,
  "nbformat_minor": 0,
  "metadata": {
    "accelerator": "GPU",
    "colab": {
      "name": "capstone——timeseries.ipynb",
      "provenance": [],
      "toc_visible": true,
      "authorship_tag": "ABX9TyP+jBmPpUjaUhWqNL9X7WIT",
      "include_colab_link": true
    },
    "kernelspec": {
      "display_name": "Python 3",
      "name": "python3"
    },
    "language_info": {
      "name": "python"
    }
  },
  "cells": [
    {
      "cell_type": "markdown",
      "metadata": {
        "id": "view-in-github",
        "colab_type": "text"
      },
      "source": [
        "<a href=\"https://colab.research.google.com/github/Caoyexin/Learning/blob/main/Capstone%20project/capstone%E2%80%94%E2%80%94timeseries.ipynb\" target=\"_parent\"><img src=\"https://colab.research.google.com/assets/colab-badge.svg\" alt=\"Open In Colab\"/></a>"
      ]
    },
    {
      "cell_type": "markdown",
      "metadata": {
        "id": "Px65LjQGlcl_"
      },
      "source": [
        "# Import packages"
      ]
    },
    {
      "cell_type": "code",
      "metadata": {
        "id": "5WMpFI1Zru5r"
      },
      "source": [
        "import warnings\n",
        "warnings.filterwarnings('ignore')"
      ],
      "execution_count": 2,
      "outputs": []
    },
    {
      "cell_type": "code",
      "metadata": {
        "id": "k2IuPextrvuJ"
      },
      "source": [
        "%matplotlib inline\n",
        "\n",
        "from datetime import datetime\n",
        "import pandas as pd\n",
        "import numpy as np\n",
        "import pandas_datareader.data as web\n",
        "\n",
        "import statsmodels.api as sm\n",
        "\n",
        "import matplotlib.pyplot as plt\n",
        "import seaborn as sns\n",
        "\n",
        "from sklearn import preprocessing"
      ],
      "execution_count": 3,
      "outputs": []
    },
    {
      "cell_type": "code",
      "metadata": {
        "colab": {
          "base_uri": "https://localhost:8080/"
        },
        "id": "9CDkQaNmsJuW",
        "outputId": "44557d57-3e03-44a2-900b-3040ac5706fe"
      },
      "source": [
        "import tensorflow as tf\n",
        "print(tf.__version__)"
      ],
      "execution_count": 4,
      "outputs": [
        {
          "output_type": "stream",
          "text": [
            "2.6.0\n"
          ],
          "name": "stdout"
        }
      ]
    },
    {
      "cell_type": "code",
      "metadata": {
        "colab": {
          "resources": {
            "http://localhost:8080/nbextensions/google.colab/files.js": {
              "data": "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",
              "ok": true,
              "headers": [
                [
                  "content-type",
                  "application/javascript"
                ]
              ],
              "status": 200,
              "status_text": ""
            }
          },
          "base_uri": "https://localhost:8080/",
          "height": 72
        },
        "id": "QQuufgbRmEb0",
        "outputId": "ac8b36de-6118-4105-cbd0-3fed7f13a4a3"
      },
      "source": [
        "from google.colab import files\n",
        "uploaded = files.upload()"
      ],
      "execution_count": 5,
      "outputs": [
        {
          "output_type": "display_data",
          "data": {
            "text/html": [
              "\n",
              "     <input type=\"file\" id=\"files-768a930c-7cae-434b-8b8d-c8bb52969617\" name=\"files[]\" multiple disabled\n",
              "        style=\"border:none\" />\n",
              "     <output id=\"result-768a930c-7cae-434b-8b8d-c8bb52969617\">\n",
              "      Upload widget is only available when the cell has been executed in the\n",
              "      current browser session. Please rerun this cell to enable.\n",
              "      </output>\n",
              "      <script src=\"/nbextensions/google.colab/files.js\"></script> "
            ],
            "text/plain": [
              "<IPython.core.display.HTML object>"
            ]
          },
          "metadata": {
            "tags": []
          }
        },
        {
          "output_type": "stream",
          "text": [
            "Saving AAPL.csv to AAPL.csv\n"
          ],
          "name": "stdout"
        }
      ]
    },
    {
      "cell_type": "markdown",
      "metadata": {
        "id": "b-lSbhQ1lWOD"
      },
      "source": [
        "\n",
        "\n",
        "# Data Wrangling"
      ]
    },
    {
      "cell_type": "markdown",
      "metadata": {
        "id": "c0CftN9NALgv"
      },
      "source": [
        "## Load dataset"
      ]
    },
    {
      "cell_type": "code",
      "metadata": {
        "colab": {
          "base_uri": "https://localhost:8080/",
          "height": 359
        },
        "id": "Iemeonr9lpLk",
        "outputId": "2a951639-9284-4a77-f96f-d8bd11994ffa"
      },
      "source": [
        "apple_df = pd.read_csv(\"AAPL.csv\")\n",
        "apple_df.head(10)"
      ],
      "execution_count": 6,
      "outputs": [
        {
          "output_type": "execute_result",
          "data": {
            "text/html": [
              "<div>\n",
              "<style scoped>\n",
              "    .dataframe tbody tr th:only-of-type {\n",
              "        vertical-align: middle;\n",
              "    }\n",
              "\n",
              "    .dataframe tbody tr th {\n",
              "        vertical-align: top;\n",
              "    }\n",
              "\n",
              "    .dataframe thead th {\n",
              "        text-align: right;\n",
              "    }\n",
              "</style>\n",
              "<table border=\"1\" class=\"dataframe\">\n",
              "  <thead>\n",
              "    <tr style=\"text-align: right;\">\n",
              "      <th></th>\n",
              "      <th>Date</th>\n",
              "      <th>Open</th>\n",
              "      <th>High</th>\n",
              "      <th>Low</th>\n",
              "      <th>Close</th>\n",
              "      <th>Adj Close</th>\n",
              "      <th>Volume</th>\n",
              "    </tr>\n",
              "  </thead>\n",
              "  <tbody>\n",
              "    <tr>\n",
              "      <th>0</th>\n",
              "      <td>1980-12-12</td>\n",
              "      <td>0.128348</td>\n",
              "      <td>0.128906</td>\n",
              "      <td>0.128348</td>\n",
              "      <td>0.128348</td>\n",
              "      <td>0.100751</td>\n",
              "      <td>469033600</td>\n",
              "    </tr>\n",
              "    <tr>\n",
              "      <th>1</th>\n",
              "      <td>1980-12-15</td>\n",
              "      <td>0.122210</td>\n",
              "      <td>0.122210</td>\n",
              "      <td>0.121652</td>\n",
              "      <td>0.121652</td>\n",
              "      <td>0.095495</td>\n",
              "      <td>175884800</td>\n",
              "    </tr>\n",
              "    <tr>\n",
              "      <th>2</th>\n",
              "      <td>1980-12-16</td>\n",
              "      <td>0.113281</td>\n",
              "      <td>0.113281</td>\n",
              "      <td>0.112723</td>\n",
              "      <td>0.112723</td>\n",
              "      <td>0.088485</td>\n",
              "      <td>105728000</td>\n",
              "    </tr>\n",
              "    <tr>\n",
              "      <th>3</th>\n",
              "      <td>1980-12-17</td>\n",
              "      <td>0.115513</td>\n",
              "      <td>0.116071</td>\n",
              "      <td>0.115513</td>\n",
              "      <td>0.115513</td>\n",
              "      <td>0.090676</td>\n",
              "      <td>86441600</td>\n",
              "    </tr>\n",
              "    <tr>\n",
              "      <th>4</th>\n",
              "      <td>1980-12-18</td>\n",
              "      <td>0.118862</td>\n",
              "      <td>0.119420</td>\n",
              "      <td>0.118862</td>\n",
              "      <td>0.118862</td>\n",
              "      <td>0.093304</td>\n",
              "      <td>73449600</td>\n",
              "    </tr>\n",
              "    <tr>\n",
              "      <th>5</th>\n",
              "      <td>1980-12-19</td>\n",
              "      <td>0.126116</td>\n",
              "      <td>0.126674</td>\n",
              "      <td>0.126116</td>\n",
              "      <td>0.126116</td>\n",
              "      <td>0.098999</td>\n",
              "      <td>48630400</td>\n",
              "    </tr>\n",
              "    <tr>\n",
              "      <th>6</th>\n",
              "      <td>1980-12-22</td>\n",
              "      <td>0.132254</td>\n",
              "      <td>0.132813</td>\n",
              "      <td>0.132254</td>\n",
              "      <td>0.132254</td>\n",
              "      <td>0.103817</td>\n",
              "      <td>37363200</td>\n",
              "    </tr>\n",
              "    <tr>\n",
              "      <th>7</th>\n",
              "      <td>1980-12-23</td>\n",
              "      <td>0.137835</td>\n",
              "      <td>0.138393</td>\n",
              "      <td>0.137835</td>\n",
              "      <td>0.137835</td>\n",
              "      <td>0.108198</td>\n",
              "      <td>46950400</td>\n",
              "    </tr>\n",
              "    <tr>\n",
              "      <th>8</th>\n",
              "      <td>1980-12-24</td>\n",
              "      <td>0.145089</td>\n",
              "      <td>0.145647</td>\n",
              "      <td>0.145089</td>\n",
              "      <td>0.145089</td>\n",
              "      <td>0.113892</td>\n",
              "      <td>48003200</td>\n",
              "    </tr>\n",
              "    <tr>\n",
              "      <th>9</th>\n",
              "      <td>1980-12-26</td>\n",
              "      <td>0.158482</td>\n",
              "      <td>0.159040</td>\n",
              "      <td>0.158482</td>\n",
              "      <td>0.158482</td>\n",
              "      <td>0.124405</td>\n",
              "      <td>55574400</td>\n",
              "    </tr>\n",
              "  </tbody>\n",
              "</table>\n",
              "</div>"
            ],
            "text/plain": [
              "         Date      Open      High       Low     Close  Adj Close     Volume\n",
              "0  1980-12-12  0.128348  0.128906  0.128348  0.128348   0.100751  469033600\n",
              "1  1980-12-15  0.122210  0.122210  0.121652  0.121652   0.095495  175884800\n",
              "2  1980-12-16  0.113281  0.113281  0.112723  0.112723   0.088485  105728000\n",
              "3  1980-12-17  0.115513  0.116071  0.115513  0.115513   0.090676   86441600\n",
              "4  1980-12-18  0.118862  0.119420  0.118862  0.118862   0.093304   73449600\n",
              "5  1980-12-19  0.126116  0.126674  0.126116  0.126116   0.098999   48630400\n",
              "6  1980-12-22  0.132254  0.132813  0.132254  0.132254   0.103817   37363200\n",
              "7  1980-12-23  0.137835  0.138393  0.137835  0.137835   0.108198   46950400\n",
              "8  1980-12-24  0.145089  0.145647  0.145089  0.145089   0.113892   48003200\n",
              "9  1980-12-26  0.158482  0.159040  0.158482  0.158482   0.124405   55574400"
            ]
          },
          "metadata": {
            "tags": []
          },
          "execution_count": 6
        }
      ]
    },
    {
      "cell_type": "code",
      "metadata": {
        "colab": {
          "base_uri": "https://localhost:8080/",
          "height": 297
        },
        "id": "rPQsIwoPmuNN",
        "outputId": "af86a675-d44a-47aa-fc47-9787cf53153b"
      },
      "source": [
        "apple_df.describe()"
      ],
      "execution_count": 7,
      "outputs": [
        {
          "output_type": "execute_result",
          "data": {
            "text/html": [
              "<div>\n",
              "<style scoped>\n",
              "    .dataframe tbody tr th:only-of-type {\n",
              "        vertical-align: middle;\n",
              "    }\n",
              "\n",
              "    .dataframe tbody tr th {\n",
              "        vertical-align: top;\n",
              "    }\n",
              "\n",
              "    .dataframe thead th {\n",
              "        text-align: right;\n",
              "    }\n",
              "</style>\n",
              "<table border=\"1\" class=\"dataframe\">\n",
              "  <thead>\n",
              "    <tr style=\"text-align: right;\">\n",
              "      <th></th>\n",
              "      <th>Open</th>\n",
              "      <th>High</th>\n",
              "      <th>Low</th>\n",
              "      <th>Close</th>\n",
              "      <th>Adj Close</th>\n",
              "      <th>Volume</th>\n",
              "    </tr>\n",
              "  </thead>\n",
              "  <tbody>\n",
              "    <tr>\n",
              "      <th>count</th>\n",
              "      <td>10250.000000</td>\n",
              "      <td>10250.000000</td>\n",
              "      <td>10250.000000</td>\n",
              "      <td>10250.000000</td>\n",
              "      <td>10250.000000</td>\n",
              "      <td>1.025000e+04</td>\n",
              "    </tr>\n",
              "    <tr>\n",
              "      <th>mean</th>\n",
              "      <td>11.711384</td>\n",
              "      <td>11.836625</td>\n",
              "      <td>11.584222</td>\n",
              "      <td>11.715104</td>\n",
              "      <td>11.139873</td>\n",
              "      <td>3.359526e+08</td>\n",
              "    </tr>\n",
              "    <tr>\n",
              "      <th>std</th>\n",
              "      <td>24.313667</td>\n",
              "      <td>24.584732</td>\n",
              "      <td>24.037851</td>\n",
              "      <td>24.323067</td>\n",
              "      <td>24.033308</td>\n",
              "      <td>3.405719e+08</td>\n",
              "    </tr>\n",
              "    <tr>\n",
              "      <th>min</th>\n",
              "      <td>0.049665</td>\n",
              "      <td>0.049665</td>\n",
              "      <td>0.049107</td>\n",
              "      <td>0.049107</td>\n",
              "      <td>0.038548</td>\n",
              "      <td>0.000000e+00</td>\n",
              "    </tr>\n",
              "    <tr>\n",
              "      <th>25%</th>\n",
              "      <td>0.276786</td>\n",
              "      <td>0.283571</td>\n",
              "      <td>0.269375</td>\n",
              "      <td>0.276786</td>\n",
              "      <td>0.232788</td>\n",
              "      <td>1.278900e+08</td>\n",
              "    </tr>\n",
              "    <tr>\n",
              "      <th>50%</th>\n",
              "      <td>0.454464</td>\n",
              "      <td>0.462054</td>\n",
              "      <td>0.445804</td>\n",
              "      <td>0.453125</td>\n",
              "      <td>0.377402</td>\n",
              "      <td>2.238824e+08</td>\n",
              "    </tr>\n",
              "    <tr>\n",
              "      <th>75%</th>\n",
              "      <td>12.508750</td>\n",
              "      <td>12.629464</td>\n",
              "      <td>12.405535</td>\n",
              "      <td>12.518929</td>\n",
              "      <td>10.765063</td>\n",
              "      <td>4.183368e+08</td>\n",
              "    </tr>\n",
              "    <tr>\n",
              "      <th>max</th>\n",
              "      <td>149.240005</td>\n",
              "      <td>150.000000</td>\n",
              "      <td>147.699997</td>\n",
              "      <td>149.149994</td>\n",
              "      <td>149.149994</td>\n",
              "      <td>7.421641e+09</td>\n",
              "    </tr>\n",
              "  </tbody>\n",
              "</table>\n",
              "</div>"
            ],
            "text/plain": [
              "               Open          High  ...     Adj Close        Volume\n",
              "count  10250.000000  10250.000000  ...  10250.000000  1.025000e+04\n",
              "mean      11.711384     11.836625  ...     11.139873  3.359526e+08\n",
              "std       24.313667     24.584732  ...     24.033308  3.405719e+08\n",
              "min        0.049665      0.049665  ...      0.038548  0.000000e+00\n",
              "25%        0.276786      0.283571  ...      0.232788  1.278900e+08\n",
              "50%        0.454464      0.462054  ...      0.377402  2.238824e+08\n",
              "75%       12.508750     12.629464  ...     10.765063  4.183368e+08\n",
              "max      149.240005    150.000000  ...    149.149994  7.421641e+09\n",
              "\n",
              "[8 rows x 6 columns]"
            ]
          },
          "metadata": {
            "tags": []
          },
          "execution_count": 7
        }
      ]
    },
    {
      "cell_type": "code",
      "metadata": {
        "id": "yuPHV3Kz8FEq"
      },
      "source": [
        "# Change date format\n",
        "apple_df['Date'] = pd.to_datetime(apple_df['Date'], format='%Y-%m-%d')"
      ],
      "execution_count": 8,
      "outputs": []
    },
    {
      "cell_type": "code",
      "metadata": {
        "colab": {
          "base_uri": "https://localhost:8080/",
          "height": 359
        },
        "id": "BO3s0kOv9l_O",
        "outputId": "dc51e44a-a307-4950-e158-5ccd05337d8a"
      },
      "source": [
        "# Only take 10 years data for analysis: 2009~2019\n",
        "df = apple_df[(apple_df['Date']>='2009-01-01') & (apple_df['Date']<='2019-12-31')]\n",
        "df.tail(10)"
      ],
      "execution_count": 9,
      "outputs": [
        {
          "output_type": "execute_result",
          "data": {
            "text/html": [
              "<div>\n",
              "<style scoped>\n",
              "    .dataframe tbody tr th:only-of-type {\n",
              "        vertical-align: middle;\n",
              "    }\n",
              "\n",
              "    .dataframe tbody tr th {\n",
              "        vertical-align: top;\n",
              "    }\n",
              "\n",
              "    .dataframe thead th {\n",
              "        text-align: right;\n",
              "    }\n",
              "</style>\n",
              "<table border=\"1\" class=\"dataframe\">\n",
              "  <thead>\n",
              "    <tr style=\"text-align: right;\">\n",
              "      <th></th>\n",
              "      <th>Date</th>\n",
              "      <th>Open</th>\n",
              "      <th>High</th>\n",
              "      <th>Low</th>\n",
              "      <th>Close</th>\n",
              "      <th>Adj Close</th>\n",
              "      <th>Volume</th>\n",
              "    </tr>\n",
              "  </thead>\n",
              "  <tbody>\n",
              "    <tr>\n",
              "      <th>9837</th>\n",
              "      <td>2019-12-17</td>\n",
              "      <td>69.892502</td>\n",
              "      <td>70.442497</td>\n",
              "      <td>69.699997</td>\n",
              "      <td>70.102501</td>\n",
              "      <td>69.280899</td>\n",
              "      <td>114158400</td>\n",
              "    </tr>\n",
              "    <tr>\n",
              "      <th>9838</th>\n",
              "      <td>2019-12-18</td>\n",
              "      <td>69.949997</td>\n",
              "      <td>70.474998</td>\n",
              "      <td>69.779999</td>\n",
              "      <td>69.934998</td>\n",
              "      <td>69.115349</td>\n",
              "      <td>116028400</td>\n",
              "    </tr>\n",
              "    <tr>\n",
              "      <th>9839</th>\n",
              "      <td>2019-12-19</td>\n",
              "      <td>69.875000</td>\n",
              "      <td>70.294998</td>\n",
              "      <td>69.737503</td>\n",
              "      <td>70.004997</td>\n",
              "      <td>69.184532</td>\n",
              "      <td>98369200</td>\n",
              "    </tr>\n",
              "    <tr>\n",
              "      <th>9840</th>\n",
              "      <td>2019-12-20</td>\n",
              "      <td>70.557503</td>\n",
              "      <td>70.662498</td>\n",
              "      <td>69.639999</td>\n",
              "      <td>69.860001</td>\n",
              "      <td>69.041237</td>\n",
              "      <td>275978000</td>\n",
              "    </tr>\n",
              "    <tr>\n",
              "      <th>9841</th>\n",
              "      <td>2019-12-23</td>\n",
              "      <td>70.132500</td>\n",
              "      <td>71.062500</td>\n",
              "      <td>70.092499</td>\n",
              "      <td>71.000000</td>\n",
              "      <td>70.167885</td>\n",
              "      <td>98572000</td>\n",
              "    </tr>\n",
              "    <tr>\n",
              "      <th>9842</th>\n",
              "      <td>2019-12-24</td>\n",
              "      <td>71.172501</td>\n",
              "      <td>71.222504</td>\n",
              "      <td>70.730003</td>\n",
              "      <td>71.067497</td>\n",
              "      <td>70.234581</td>\n",
              "      <td>48478800</td>\n",
              "    </tr>\n",
              "    <tr>\n",
              "      <th>9843</th>\n",
              "      <td>2019-12-26</td>\n",
              "      <td>71.205002</td>\n",
              "      <td>72.495003</td>\n",
              "      <td>71.175003</td>\n",
              "      <td>72.477501</td>\n",
              "      <td>71.628067</td>\n",
              "      <td>93121200</td>\n",
              "    </tr>\n",
              "    <tr>\n",
              "      <th>9844</th>\n",
              "      <td>2019-12-27</td>\n",
              "      <td>72.779999</td>\n",
              "      <td>73.492500</td>\n",
              "      <td>72.029999</td>\n",
              "      <td>72.449997</td>\n",
              "      <td>71.600876</td>\n",
              "      <td>146266000</td>\n",
              "    </tr>\n",
              "    <tr>\n",
              "      <th>9845</th>\n",
              "      <td>2019-12-30</td>\n",
              "      <td>72.364998</td>\n",
              "      <td>73.172501</td>\n",
              "      <td>71.305000</td>\n",
              "      <td>72.879997</td>\n",
              "      <td>72.025833</td>\n",
              "      <td>144114400</td>\n",
              "    </tr>\n",
              "    <tr>\n",
              "      <th>9846</th>\n",
              "      <td>2019-12-31</td>\n",
              "      <td>72.482498</td>\n",
              "      <td>73.419998</td>\n",
              "      <td>72.379997</td>\n",
              "      <td>73.412498</td>\n",
              "      <td>72.552094</td>\n",
              "      <td>100805600</td>\n",
              "    </tr>\n",
              "  </tbody>\n",
              "</table>\n",
              "</div>"
            ],
            "text/plain": [
              "           Date       Open       High  ...      Close  Adj Close     Volume\n",
              "9837 2019-12-17  69.892502  70.442497  ...  70.102501  69.280899  114158400\n",
              "9838 2019-12-18  69.949997  70.474998  ...  69.934998  69.115349  116028400\n",
              "9839 2019-12-19  69.875000  70.294998  ...  70.004997  69.184532   98369200\n",
              "9840 2019-12-20  70.557503  70.662498  ...  69.860001  69.041237  275978000\n",
              "9841 2019-12-23  70.132500  71.062500  ...  71.000000  70.167885   98572000\n",
              "9842 2019-12-24  71.172501  71.222504  ...  71.067497  70.234581   48478800\n",
              "9843 2019-12-26  71.205002  72.495003  ...  72.477501  71.628067   93121200\n",
              "9844 2019-12-27  72.779999  73.492500  ...  72.449997  71.600876  146266000\n",
              "9845 2019-12-30  72.364998  73.172501  ...  72.879997  72.025833  144114400\n",
              "9846 2019-12-31  72.482498  73.419998  ...  73.412498  72.552094  100805600\n",
              "\n",
              "[10 rows x 7 columns]"
            ]
          },
          "metadata": {
            "tags": []
          },
          "execution_count": 9
        }
      ]
    },
    {
      "cell_type": "code",
      "metadata": {
        "colab": {
          "base_uri": "https://localhost:8080/",
          "height": 359
        },
        "id": "AfsBmQWd-bdN",
        "outputId": "c4f166d1-b743-4904-851e-486f35eb3756"
      },
      "source": [
        "# Reset the index\n",
        "df = df.reset_index(drop=True)\n",
        "df.head(10)"
      ],
      "execution_count": 10,
      "outputs": [
        {
          "output_type": "execute_result",
          "data": {
            "text/html": [
              "<div>\n",
              "<style scoped>\n",
              "    .dataframe tbody tr th:only-of-type {\n",
              "        vertical-align: middle;\n",
              "    }\n",
              "\n",
              "    .dataframe tbody tr th {\n",
              "        vertical-align: top;\n",
              "    }\n",
              "\n",
              "    .dataframe thead th {\n",
              "        text-align: right;\n",
              "    }\n",
              "</style>\n",
              "<table border=\"1\" class=\"dataframe\">\n",
              "  <thead>\n",
              "    <tr style=\"text-align: right;\">\n",
              "      <th></th>\n",
              "      <th>Date</th>\n",
              "      <th>Open</th>\n",
              "      <th>High</th>\n",
              "      <th>Low</th>\n",
              "      <th>Close</th>\n",
              "      <th>Adj Close</th>\n",
              "      <th>Volume</th>\n",
              "    </tr>\n",
              "  </thead>\n",
              "  <tbody>\n",
              "    <tr>\n",
              "      <th>0</th>\n",
              "      <td>2009-01-02</td>\n",
              "      <td>3.067143</td>\n",
              "      <td>3.251429</td>\n",
              "      <td>3.041429</td>\n",
              "      <td>3.241071</td>\n",
              "      <td>2.787006</td>\n",
              "      <td>746015200</td>\n",
              "    </tr>\n",
              "    <tr>\n",
              "      <th>1</th>\n",
              "      <td>2009-01-05</td>\n",
              "      <td>3.327500</td>\n",
              "      <td>3.435000</td>\n",
              "      <td>3.311071</td>\n",
              "      <td>3.377857</td>\n",
              "      <td>2.904629</td>\n",
              "      <td>1181608400</td>\n",
              "    </tr>\n",
              "    <tr>\n",
              "      <th>2</th>\n",
              "      <td>2009-01-06</td>\n",
              "      <td>3.426786</td>\n",
              "      <td>3.470357</td>\n",
              "      <td>3.299643</td>\n",
              "      <td>3.322143</td>\n",
              "      <td>2.856720</td>\n",
              "      <td>1289310400</td>\n",
              "    </tr>\n",
              "    <tr>\n",
              "      <th>3</th>\n",
              "      <td>2009-01-07</td>\n",
              "      <td>3.278929</td>\n",
              "      <td>3.303571</td>\n",
              "      <td>3.223571</td>\n",
              "      <td>3.250357</td>\n",
              "      <td>2.794991</td>\n",
              "      <td>753048800</td>\n",
              "    </tr>\n",
              "    <tr>\n",
              "      <th>4</th>\n",
              "      <td>2009-01-08</td>\n",
              "      <td>3.229643</td>\n",
              "      <td>3.326786</td>\n",
              "      <td>3.215714</td>\n",
              "      <td>3.310714</td>\n",
              "      <td>2.846893</td>\n",
              "      <td>673500800</td>\n",
              "    </tr>\n",
              "    <tr>\n",
              "      <th>5</th>\n",
              "      <td>2009-01-09</td>\n",
              "      <td>3.328929</td>\n",
              "      <td>3.335000</td>\n",
              "      <td>3.219286</td>\n",
              "      <td>3.235000</td>\n",
              "      <td>2.781786</td>\n",
              "      <td>546845600</td>\n",
              "    </tr>\n",
              "    <tr>\n",
              "      <th>6</th>\n",
              "      <td>2009-01-12</td>\n",
              "      <td>3.230714</td>\n",
              "      <td>3.249643</td>\n",
              "      <td>3.126786</td>\n",
              "      <td>3.166429</td>\n",
              "      <td>2.722821</td>\n",
              "      <td>617716400</td>\n",
              "    </tr>\n",
              "    <tr>\n",
              "      <th>7</th>\n",
              "      <td>2009-01-13</td>\n",
              "      <td>3.151429</td>\n",
              "      <td>3.205000</td>\n",
              "      <td>3.083929</td>\n",
              "      <td>3.132500</td>\n",
              "      <td>2.693645</td>\n",
              "      <td>798397600</td>\n",
              "    </tr>\n",
              "    <tr>\n",
              "      <th>8</th>\n",
              "      <td>2009-01-14</td>\n",
              "      <td>3.080000</td>\n",
              "      <td>3.116071</td>\n",
              "      <td>3.025714</td>\n",
              "      <td>3.047500</td>\n",
              "      <td>2.620554</td>\n",
              "      <td>1021664000</td>\n",
              "    </tr>\n",
              "    <tr>\n",
              "      <th>9</th>\n",
              "      <td>2009-01-15</td>\n",
              "      <td>2.877500</td>\n",
              "      <td>3.004286</td>\n",
              "      <td>2.858929</td>\n",
              "      <td>2.977857</td>\n",
              "      <td>2.560668</td>\n",
              "      <td>1831634000</td>\n",
              "    </tr>\n",
              "  </tbody>\n",
              "</table>\n",
              "</div>"
            ],
            "text/plain": [
              "        Date      Open      High       Low     Close  Adj Close      Volume\n",
              "0 2009-01-02  3.067143  3.251429  3.041429  3.241071   2.787006   746015200\n",
              "1 2009-01-05  3.327500  3.435000  3.311071  3.377857   2.904629  1181608400\n",
              "2 2009-01-06  3.426786  3.470357  3.299643  3.322143   2.856720  1289310400\n",
              "3 2009-01-07  3.278929  3.303571  3.223571  3.250357   2.794991   753048800\n",
              "4 2009-01-08  3.229643  3.326786  3.215714  3.310714   2.846893   673500800\n",
              "5 2009-01-09  3.328929  3.335000  3.219286  3.235000   2.781786   546845600\n",
              "6 2009-01-12  3.230714  3.249643  3.126786  3.166429   2.722821   617716400\n",
              "7 2009-01-13  3.151429  3.205000  3.083929  3.132500   2.693645   798397600\n",
              "8 2009-01-14  3.080000  3.116071  3.025714  3.047500   2.620554  1021664000\n",
              "9 2009-01-15  2.877500  3.004286  2.858929  2.977857   2.560668  1831634000"
            ]
          },
          "metadata": {
            "tags": []
          },
          "execution_count": 10
        }
      ]
    },
    {
      "cell_type": "code",
      "metadata": {
        "colab": {
          "base_uri": "https://localhost:8080/"
        },
        "id": "wL19psTQA-nv",
        "outputId": "9ac62b8c-0624-4530-ae20-7b2a30ec743c"
      },
      "source": [
        "# check if there is null value\n",
        "print('Total NULL values:', df.isnull().sum().sum())"
      ],
      "execution_count": 11,
      "outputs": [
        {
          "output_type": "stream",
          "text": [
            "Total NULL values: 0\n"
          ],
          "name": "stdout"
        }
      ]
    },
    {
      "cell_type": "markdown",
      "metadata": {
        "id": "i8KDd7Yi9KoY"
      },
      "source": [
        "## Visualize"
      ]
    },
    {
      "cell_type": "code",
      "metadata": {
        "colab": {
          "base_uri": "https://localhost:8080/",
          "height": 404
        },
        "id": "bgF8a6CZ9N0l",
        "outputId": "306a257c-8209-458e-81ab-e9165fe5581f"
      },
      "source": [
        "plt.figure(figsize=(6, 6))\n",
        "color = ['yellow', 'blue', 'green', 'red']\n",
        "y = ['Open', 'Close' , 'High', 'Low']\n",
        "for i, c in zip(y, color):\n",
        "  plt.plot(df['Date'], df[i], color=c, label=f'{i}')\n",
        "  plt.title('Apple Stock 2009~2019')\n",
        "  plt.xlabel('Date')\n",
        "  plt.ylabel('Prices')\n",
        "  plt.legend()\n",
        "\n",
        "plt.show()"
      ],
      "execution_count": 12,
      "outputs": [
        {
          "output_type": "display_data",
          "data": {
            "image/png": "[encoded data removed]",
            "text/plain": [
              "<Figure size 432x432 with 1 Axes>"
            ]
          },
          "metadata": {
            "tags": [],
            "needs_background": "light"
          }
        }
      ]
    },
    {
      "cell_type": "code",
      "metadata": {
        "colab": {
          "base_uri": "https://localhost:8080/",
          "height": 419
        },
        "id": "LWXLXp0RGy4D",
        "outputId": "8013e672-18ac-4c2a-a547-f8088f091d9d"
      },
      "source": [
        "corr = {'origin':df['High'], 'lag_1': df['High'].shift(1), 'lag_5':df['High'].shift(5), 'lag_10':df['High'].shift(10)}\n",
        "corr_df = pd.DataFrame(corr)\n",
        "# corr_df.fillna(0, inplace=True)\n",
        "corr_df.dropna(inplace=True)\n",
        "corr_df"
      ],
      "execution_count": 13,
      "outputs": [
        {
          "output_type": "execute_result",
          "data": {
            "text/html": [
              "<div>\n",
              "<style scoped>\n",
              "    .dataframe tbody tr th:only-of-type {\n",
              "        vertical-align: middle;\n",
              "    }\n",
              "\n",
              "    .dataframe tbody tr th {\n",
              "        vertical-align: top;\n",
              "    }\n",
              "\n",
              "    .dataframe thead th {\n",
              "        text-align: right;\n",
              "    }\n",
              "</style>\n",
              "<table border=\"1\" class=\"dataframe\">\n",
              "  <thead>\n",
              "    <tr style=\"text-align: right;\">\n",
              "      <th></th>\n",
              "      <th>origin</th>\n",
              "      <th>lag_1</th>\n",
              "      <th>lag_5</th>\n",
              "      <th>lag_10</th>\n",
              "    </tr>\n",
              "  </thead>\n",
              "  <tbody>\n",
              "    <tr>\n",
              "      <th>10</th>\n",
              "      <td>3.013571</td>\n",
              "      <td>3.004286</td>\n",
              "      <td>3.335000</td>\n",
              "      <td>3.251429</td>\n",
              "    </tr>\n",
              "    <tr>\n",
              "      <th>11</th>\n",
              "      <td>2.928571</td>\n",
              "      <td>3.013571</td>\n",
              "      <td>3.249643</td>\n",
              "      <td>3.435000</td>\n",
              "    </tr>\n",
              "    <tr>\n",
              "      <th>12</th>\n",
              "      <td>2.960000</td>\n",
              "      <td>2.928571</td>\n",
              "      <td>3.205000</td>\n",
              "      <td>3.470357</td>\n",
              "    </tr>\n",
              "    <tr>\n",
              "      <th>13</th>\n",
              "      <td>3.214286</td>\n",
              "      <td>2.960000</td>\n",
              "      <td>3.116071</td>\n",
              "      <td>3.303571</td>\n",
              "    </tr>\n",
              "    <tr>\n",
              "      <th>14</th>\n",
              "      <td>3.209643</td>\n",
              "      <td>3.214286</td>\n",
              "      <td>3.004286</td>\n",
              "      <td>3.326786</td>\n",
              "    </tr>\n",
              "    <tr>\n",
              "      <th>...</th>\n",
              "      <td>...</td>\n",
              "      <td>...</td>\n",
              "      <td>...</td>\n",
              "      <td>...</td>\n",
              "    </tr>\n",
              "    <tr>\n",
              "      <th>2763</th>\n",
              "      <td>71.222504</td>\n",
              "      <td>71.062500</td>\n",
              "      <td>70.442497</td>\n",
              "      <td>67.517502</td>\n",
              "    </tr>\n",
              "    <tr>\n",
              "      <th>2764</th>\n",
              "      <td>72.495003</td>\n",
              "      <td>71.222504</td>\n",
              "      <td>70.474998</td>\n",
              "      <td>67.775002</td>\n",
              "    </tr>\n",
              "    <tr>\n",
              "      <th>2765</th>\n",
              "      <td>73.492500</td>\n",
              "      <td>72.495003</td>\n",
              "      <td>70.294998</td>\n",
              "      <td>68.139999</td>\n",
              "    </tr>\n",
              "    <tr>\n",
              "      <th>2766</th>\n",
              "      <td>73.172501</td>\n",
              "      <td>73.492500</td>\n",
              "      <td>70.662498</td>\n",
              "      <td>68.824997</td>\n",
              "    </tr>\n",
              "    <tr>\n",
              "      <th>2767</th>\n",
              "      <td>73.419998</td>\n",
              "      <td>73.172501</td>\n",
              "      <td>71.062500</td>\n",
              "      <td>70.197502</td>\n",
              "    </tr>\n",
              "  </tbody>\n",
              "</table>\n",
              "<p>2758 rows × 4 columns</p>\n",
              "</div>"
            ],
            "text/plain": [
              "         origin      lag_1      lag_5     lag_10\n",
              "10     3.013571   3.004286   3.335000   3.251429\n",
              "11     2.928571   3.013571   3.249643   3.435000\n",
              "12     2.960000   2.928571   3.205000   3.470357\n",
              "13     3.214286   2.960000   3.116071   3.303571\n",
              "14     3.209643   3.214286   3.004286   3.326786\n",
              "...         ...        ...        ...        ...\n",
              "2763  71.222504  71.062500  70.442497  67.517502\n",
              "2764  72.495003  71.222504  70.474998  67.775002\n",
              "2765  73.492500  72.495003  70.294998  68.139999\n",
              "2766  73.172501  73.492500  70.662498  68.824997\n",
              "2767  73.419998  73.172501  71.062500  70.197502\n",
              "\n",
              "[2758 rows x 4 columns]"
            ]
          },
          "metadata": {
            "tags": []
          },
          "execution_count": 13
        }
      ]
    },
    {
      "cell_type": "code",
      "metadata": {
        "colab": {
          "base_uri": "https://localhost:8080/",
          "height": 730
        },
        "id": "rCSoTFPOGxh8",
        "outputId": "ac58bc14-db5c-4678-8840-bbff89d774c1"
      },
      "source": [
        "sns.clustermap(corr_df.corr(), cmap=sns.diverging_palette(h_neg=20, h_pos=220), center=0, annot=True, fmt='.2%');"
      ],
      "execution_count": 14,
      "outputs": [
        {
          "output_type": "display_data",
          "data": {
            "image/png": "[encoded data removed]",
            "text/plain": [
              "<Figure size 720x720 with 4 Axes>"
            ]
          },
          "metadata": {
            "tags": [],
            "needs_background": "light"
          }
        }
      ]
    },
    {
      "cell_type": "markdown",
      "metadata": {
        "id": "dIpPbJqLFGjw"
      },
      "source": [
        "# Split data"
      ]
    },
    {
      "cell_type": "code",
      "metadata": {
        "id": "c9AZOVAbFKXZ"
      },
      "source": [
        "split = 0.8\n",
        "train_data, test_data = df.iloc[0:int(len(df)*split), :], df.iloc[int(len(df)*split):, :]"
      ],
      "execution_count": 15,
      "outputs": []
    },
    {
      "cell_type": "code",
      "metadata": {
        "colab": {
          "base_uri": "https://localhost:8080/",
          "height": 458
        },
        "id": "9Xg8IXKFFRpl",
        "outputId": "3d84d6be-16c1-4463-b7a1-3ae73934021b"
      },
      "source": [
        "plt.figure(figsize=(12,7))\n",
        "plt.title('Apple stock 2009~2019')\n",
        "plt.xlabel('Dates')\n",
        "plt.ylabel('Prices')\n",
        "plt.plot(train_data['Open'], 'blue', label='Training Data')\n",
        "plt.plot(test_data['Open'], 'green', label='Testing Data')\n",
        "plt.legend();\n"
      ],
      "execution_count": 16,
      "outputs": [
        {
          "output_type": "display_data",
          "data": {
            "image/png": "[encoded data removed]",
            "text/plain": [
              "<Figure size 864x504 with 1 Axes>"
            ]
          },
          "metadata": {
            "tags": [],
            "needs_background": "light"
          }
        }
      ]
    },
    {
      "cell_type": "markdown",
      "metadata": {
        "id": "kMjcZv1S9F7u"
      },
      "source": [
        "# Model\n",
        "\n",
        "\n",
        "1.   ARIMA\n",
        "2.   LSTM\n",
        "\n"
      ]
    },
    {
      "cell_type": "markdown",
      "metadata": {
        "id": "VVV0I4qcJUny"
      },
      "source": [
        "##ARIMA"
      ]
    },
    {
      "cell_type": "markdown",
      "metadata": {
        "id": "Tl4jR-v8LJPs"
      },
      "source": [
        "### Original Data\n",
        "\n",
        "\n",
        "*   Rolling stats\n",
        "*   AD-Fuller Stats\n",
        "\n"
      ]
    },
    {
      "cell_type": "code",
      "metadata": {
        "colab": {
          "base_uri": "https://localhost:8080/",
          "height": 390
        },
        "id": "hWp7u5dGGdA_",
        "outputId": "605aa667-c506-4b7a-d6c3-333872d298ab"
      },
      "source": [
        "window = 7\n",
        "train_series = train_data['Open']\n",
        "\n",
        "#Determing rolling statistics\n",
        "rolmean = train_series.rolling(window).mean()\n",
        "rolstd = train_series.rolling(window).std()\n",
        "\n",
        "#Plot rolling statistics:\n",
        "fig = plt.figure(figsize=(10, 6))\n",
        "orig = plt.plot(train_series, color='blue',label='Original')\n",
        "mean = plt.plot(rolmean, color='red', label='Rolling Mean')\n",
        "std = plt.plot(rolstd, color='black', label = 'Rolling Std')\n",
        "plt.legend(loc='best')\n",
        "plt.title('Rolling Mean & Standard Deviation');"
      ],
      "execution_count": 17,
      "outputs": [
        {
          "output_type": "display_data",
          "data": {
            "image/png": "[encoded data removed]",
            "text/plain": [
              "<Figure size 720x432 with 1 Axes>"
            ]
          },
          "metadata": {
            "tags": [],
            "needs_background": "light"
          }
        }
      ]
    },
    {
      "cell_type": "code",
      "metadata": {
        "colab": {
          "base_uri": "https://localhost:8080/"
        },
        "id": "MuBGwX0qJtlT",
        "outputId": "21abfa10-a660-4f3d-c590-f63aab029fcf"
      },
      "source": [
        "from statsmodels.tsa.stattools import adfuller\n",
        "\n",
        "dftest = adfuller(train_series, autolag='AIC')\n",
        "dfoutput = pd.Series(dftest[0:4], index=['Test Statistic','p-value','#Lags Used','Number of Observations Used'])\n",
        "for key,value in dftest[4].items():\n",
        "    dfoutput['Critical Value (%s)'%key] = value\n",
        "dfoutput"
      ],
      "execution_count": 18,
      "outputs": [
        {
          "output_type": "execute_result",
          "data": {
            "text/plain": [
              "Test Statistic                   -0.396155\n",
              "p-value                           0.910739\n",
              "#Lags Used                       13.000000\n",
              "Number of Observations Used    2200.000000\n",
              "Critical Value (1%)              -3.433326\n",
              "Critical Value (5%)              -2.862855\n",
              "Critical Value (10%)             -2.567470\n",
              "dtype: float64"
            ]
          },
          "metadata": {
            "tags": []
          },
          "execution_count": 18
        }
      ]
    },
    {
      "cell_type": "markdown",
      "metadata": {
        "id": "0QCS2jQnJxcm"
      },
      "source": [
        "### Apply 1st order differencing\n",
        "\n",
        "\n",
        "*   Rolling stats\n",
        "*   AD-Fuller Stats\n",
        "\n"
      ]
    },
    {
      "cell_type": "code",
      "metadata": {
        "colab": {
          "base_uri": "https://localhost:8080/"
        },
        "id": "tXbx3DluJw98",
        "outputId": "eaf62746-dbfa-4150-9721-4f07edecc224"
      },
      "source": [
        "train_diff = train_series.diff()\n",
        "train_diff = train_diff.dropna(inplace = False)\n",
        "train_diff.head(10)"
      ],
      "execution_count": 19,
      "outputs": [
        {
          "output_type": "execute_result",
          "data": {
            "text/plain": [
              "1     0.260357\n",
              "2     0.099286\n",
              "3    -0.147857\n",
              "4    -0.049286\n",
              "5     0.099286\n",
              "6    -0.098215\n",
              "7    -0.079285\n",
              "8    -0.071429\n",
              "9    -0.202500\n",
              "10    0.133214\n",
              "Name: Open, dtype: float64"
            ]
          },
          "metadata": {
            "tags": []
          },
          "execution_count": 19
        }
      ]
    },
    {
      "cell_type": "code",
      "metadata": {
        "colab": {
          "base_uri": "https://localhost:8080/",
          "height": 390
        },
        "id": "98YWzifWKt4o",
        "outputId": "f9ab27a5-3447-4820-b842-71d758bef928"
      },
      "source": [
        "#Determing rolling statistics\n",
        "diff_rolmean = train_diff.rolling(window).mean()\n",
        "diff_rolstd = train_diff.rolling(window).std()\n",
        "\n",
        "#Plot rolling statistics:\n",
        "fig = plt.figure(figsize=(10, 6))\n",
        "diff_orig = plt.plot(train_diff, color='blue',label='Original')\n",
        "diff_mean = plt.plot(diff_rolmean, color='red', label='Rolling Mean')\n",
        "diff_std = plt.plot(diff_rolstd, color='black', label = 'Rolling Std')\n",
        "plt.legend(loc='best')\n",
        "plt.title('Rolling Mean & Standard Deviation on first order differencing data');"
      ],
      "execution_count": 20,
      "outputs": [
        {
          "output_type": "display_data",
          "data": {
            "image/png": "[encoded data removed]",
            "text/plain": [
              "<Figure size 720x432 with 1 Axes>"
            ]
          },
          "metadata": {
            "tags": [],
            "needs_background": "light"
          }
        }
      ]
    },
    {
      "cell_type": "code",
      "metadata": {
        "colab": {
          "base_uri": "https://localhost:8080/"
        },
        "id": "YJ7FV_QiKxZm",
        "outputId": "76673e0e-b4bb-4416-a3b0-6ec178e51528"
      },
      "source": [
        "diff_dftest = adfuller(train_diff, autolag='AIC')\n",
        "diff_dfoutput = pd.Series(diff_dftest[0:4], index=['Test Statistic','p-value','#Lags Used','Number of Observations Used'])\n",
        "for key,value in diff_dftest[4].items():\n",
        "    diff_dfoutput['Critical Value (%s)'%key] = value\n",
        "diff_dfoutput"
      ],
      "execution_count": 21,
      "outputs": [
        {
          "output_type": "execute_result",
          "data": {
            "text/plain": [
              "Test Statistic                -1.226519e+01\n",
              "p-value                        8.893430e-23\n",
              "#Lags Used                     1.200000e+01\n",
              "Number of Observations Used    2.200000e+03\n",
              "Critical Value (1%)           -3.433326e+00\n",
              "Critical Value (5%)           -2.862855e+00\n",
              "Critical Value (10%)          -2.567470e+00\n",
              "dtype: float64"
            ]
          },
          "metadata": {
            "tags": []
          },
          "execution_count": 21
        }
      ]
    },
    {
      "cell_type": "markdown",
      "metadata": {
        "id": "NWCjqG0vSxcf"
      },
      "source": [
        "### Train model"
      ]
    },
    {
      "cell_type": "code",
      "metadata": {
        "id": "vcRdNJk8LSgr"
      },
      "source": [
        "from statsmodels.tsa.arima_model import ARIMA\n",
        "from sklearn.metrics import mean_squared_error"
      ],
      "execution_count": 22,
      "outputs": []
    },
    {
      "cell_type": "code",
      "metadata": {
        "colab": {
          "base_uri": "https://localhost:8080/"
        },
        "id": "ikW3T47eTg3b",
        "outputId": "d543ca8b-cd7b-4c0f-d0b0-29c49395b786"
      },
      "source": [
        "#test_data.reset_index(drop=True,inplace=True)\n",
        "test_series = test_data['Open']\n",
        "test_diff = test_series.diff()\n",
        "test_diff = test_diff.dropna(inplace = False)\n",
        "test_diff.head(10)"
      ],
      "execution_count": 23,
      "outputs": [
        {
          "output_type": "execute_result",
          "data": {
            "text/plain": [
              "2215   -0.917500\n",
              "2216   -0.035000\n",
              "2217    0.070000\n",
              "2218   -0.150002\n",
              "2219    0.155003\n",
              "2220    0.079998\n",
              "2221    0.514999\n",
              "2222    1.150002\n",
              "2223    1.002498\n",
              "2224    0.492501\n",
              "Name: Open, dtype: float64"
            ]
          },
          "metadata": {
            "tags": []
          },
          "execution_count": 23
        }
      ]
    },
    {
      "cell_type": "code",
      "metadata": {
        "colab": {
          "base_uri": "https://localhost:8080/"
        },
        "id": "gkW6Ahg7S613",
        "outputId": "8939ae17-7b39-48e8-daec-ec85af339d7c"
      },
      "source": [
        "%%time \n",
        "\n",
        "history = [x for x in train_diff]\n",
        "tmp_params = (5,1,0)\n",
        "\n",
        "predictions = list()\n",
        "for t in range(len(test_diff)):\n",
        "    model = ARIMA(history,order=tmp_params)\n",
        "    # fit the model\n",
        "    model_fit = model.fit()\n",
        "\n",
        "    # use forecast on the fitted model\n",
        "    output = model_fit.forecast()\n",
        "    yhat = output[0]\n",
        "    predictions.append(yhat)\n",
        "\n",
        "    obs = test_diff.iloc[t]\n",
        "    history.append(obs)\n",
        "\n",
        "    if t % 100 == 0:\n",
        "      print('Test Series Point: {}\\tPredicted={}, Expected={}'.format(t, yhat, obs))"
      ],
      "execution_count": 24,
      "outputs": [
        {
          "output_type": "stream",
          "text": [
            "Test Series Point: 0\tPredicted=[0.11335539], Expected=-0.9174999999999969\n"
          ],
          "name": "stdout"
        },
        {
          "output_type": "stream",
          "text": [
            "/usr/local/lib/python3.7/dist-packages/statsmodels/base/model.py:512: ConvergenceWarning: Maximum Likelihood optimization failed to converge. Check mle_retvals\n",
            "  \"Check mle_retvals\", ConvergenceWarning)\n"
          ],
          "name": "stderr"
        },
        {
          "output_type": "stream",
          "text": [
            "Test Series Point: 100\tPredicted=[0.19488646], Expected=-0.45500200000000035\n",
            "Test Series Point: 200\tPredicted=[0.61446696], Expected=0.33000200000000035\n",
            "Test Series Point: 300\tPredicted=[-0.41161106], Expected=0.2575000000000003\n",
            "Test Series Point: 400\tPredicted=[-0.12875444], Expected=0.09999799999999937\n",
            "Test Series Point: 500\tPredicted=[0.38986887], Expected=-0.755001\n",
            "CPU times: user 7min 4s, sys: 55.9 s, total: 8min\n",
            "Wall time: 6min 57s\n"
          ],
          "name": "stdout"
        }
      ]
    },
    {
      "cell_type": "code",
      "metadata": {
        "colab": {
          "base_uri": "https://localhost:8080/"
        },
        "id": "HAgD6BMkXdMm",
        "outputId": "493b7665-3aca-4c70-da41-f1dbc1254448"
      },
      "source": [
        "reverse_test_diff = np.r_[test_series.iloc[0], test_diff].cumsum()\n",
        "reverse_predictions = np.row_stack((test_series.iloc[0], predictions)).cumsum()\n",
        "reverse_test_diff.shape, reverse_predictions.shape"
      ],
      "execution_count": 25,
      "outputs": [
        {
          "output_type": "execute_result",
          "data": {
            "text/plain": [
              "((554,), (554,))"
            ]
          },
          "metadata": {
            "tags": []
          },
          "execution_count": 25
        }
      ]
    },
    {
      "cell_type": "code",
      "metadata": {
        "id": "E01iDQcwbEXE"
      },
      "source": [
        "def smape_kun(y_true, y_pred):\n",
        "    # START_CODE_HERE\n",
        "    return np.mean((np.abs(y_pred - y_true) * 200 / (np.abs(y_pred) + np.abs(y_true))))\n",
        "    # END_CODE_HERE"
      ],
      "execution_count": 26,
      "outputs": []
    },
    {
      "cell_type": "code",
      "metadata": {
        "colab": {
          "base_uri": "https://localhost:8080/"
        },
        "id": "lwD_kaT_a3Pz",
        "outputId": "ad70150e-3619-4803-a6e5-e949289c2772"
      },
      "source": [
        "error = mean_squared_error(reverse_test_diff, reverse_predictions)\n",
        "print('Testing Mean Squared Error: %.3f' % error)\n",
        "error2 = smape_kun(reverse_test_diff, reverse_predictions)\n",
        "print('Symmetric Mean absolute percentage error: %.3f' % error2)"
      ],
      "execution_count": 27,
      "outputs": [
        {
          "output_type": "stream",
          "text": [
            "Testing Mean Squared Error: 2.050\n",
            "Symmetric Mean absolute percentage error: 2.274\n"
          ],
          "name": "stdout"
        }
      ]
    },
    {
      "cell_type": "code",
      "metadata": {
        "colab": {
          "base_uri": "https://localhost:8080/",
          "height": 513
        },
        "id": "g-tnV2y3hYtT",
        "outputId": "1778e651-5e0c-4760-faaa-a0ac062c4149"
      },
      "source": [
        "plt.figure(figsize=(12,7))\n",
        "plt.title('IBM Prices')\n",
        "plt.xlabel('Dates')\n",
        "plt.ylabel('Prices')\n",
        "plt.plot(train_series, color='blue', label='Training Prices')\n",
        "plt.plot(reverse_test_diff_series, color='green', marker='.', label='Testing Prices - Reverse Diff Transform')\n",
        "plt.plot(reverse_predictions_series, color='red', linestyle='--', label='Forecasted Prices - Reverse Diff Transform')\n",
        "plt.legend();"
      ],
      "execution_count": 28,
      "outputs": [
        {
          "output_type": "display_data",
          "data": {
            "image/png": "[encoded data removed]",
            "text/plain": [
              "<Figure size 720x576 with 1 Axes>"
            ]
          },
          "metadata": {
            "tags": [],
            "needs_background": "light"
          }
        }
      ]
    }
  ]
}