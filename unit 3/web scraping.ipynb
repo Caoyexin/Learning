{
 "cells": [
  {
   "cell_type": "code",
   "execution_count": null,
   "metadata": {},
   "outputs": [],
   "source": [
    "from urllib.request import urlopen as uReq\n",
    "from bs4 import BeautifulSoup as soup\n",
    "\n",
    "my_url = 'https://www.newegg.com/Video-Cards-Video-Devices/Category/ID-38'\n",
    "\n",
    "uClient = uReq(my_url)\n",
    "page_html = uClient.read()\n",
    "uClient.close()\n",
    "\n",
    "page_soup = soup(page_html,\"html.parser\")\n",
    "page_soup.h1\n",
    "page_soup.body.span\n",
    "# grabs each graphic card\n",
    "containers = page_soup.findAll(\"div\",{\"class\":\"items-container\"})\n",
    "\n"
   ]
  },
  {
   "cell_type": "code",
   "execution_count": null,
   "metadata": {},
   "outputs": [],
   "source": [
    "for container in containers:\n",
    "    brand = contrainer.div.div.a.img[\"title\"]\n",
    "    title_container = container.findAll(\"a\",{\"class\":\"item-title\"})\n",
    "    product_name = title_container[0].text\n",
    "    shipping_container = contain.findAll(\"li\",{\"class\":\"price-ship\"})\n",
    "    shipping = shipping_container[0].text.strip()\n",
    "end\n",
    "filename = \"products.csv\";\n",
    "f = open(filename,\"w\")\n",
    "headers = \"braind, product_name, shipping \\n\"\n",
    "f.write(brand + \",\"+product_name.replace(\",\",\"|\")+\",\"+shipping+ \"\\n\")\n",
    "f.close()\n"
   ]
  }
 ],
 "metadata": {
  "kernelspec": {
   "display_name": "Python 3",
   "language": "python",
   "name": "python3"
  },
  "language_info": {
   "codemirror_mode": {
    "name": "ipython",
    "version": 3
   },
   "file_extension": ".py",
   "mimetype": "text/x-python",
   "name": "python",
   "nbconvert_exporter": "python",
   "pygments_lexer": "ipython3",
   "version": "3.7.6"
  }
 },
 "nbformat": 4,
 "nbformat_minor": 4
}
