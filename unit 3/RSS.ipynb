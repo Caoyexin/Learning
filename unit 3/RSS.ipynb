{
 "cells": [
  {
   "cell_type": "code",
   "execution_count": 5,
   "metadata": {},
   "outputs": [],
   "source": [
    "import feedparser\n",
    "import pandas as pd"
   ]
  },
  {
   "cell_type": "code",
   "execution_count": 6,
   "metadata": {},
   "outputs": [],
   "source": [
    "RSS_URL = 'https://usa.newonnetflix.info/feed'"
   ]
  },
  {
   "cell_type": "code",
   "execution_count": 7,
   "metadata": {},
   "outputs": [],
   "source": [
    "feed = feedparser.parse(RSS_URL)"
   ]
  },
  {
   "cell_type": "code",
   "execution_count": 8,
   "metadata": {},
   "outputs": [
    {
     "data": {
      "text/plain": [
       "feedparser.util.FeedParserDict"
      ]
     },
     "execution_count": 8,
     "metadata": {},
     "output_type": "execute_result"
    }
   ],
   "source": [
    "type(feed)"
   ]
  },
  {
   "cell_type": "code",
   "execution_count": 9,
   "metadata": {},
   "outputs": [
    {
     "data": {
      "text/plain": [
       "dict_keys(['bozo', 'entries', 'feed', 'headers', 'updated', 'updated_parsed', 'href', 'status', 'encoding', 'version', 'namespaces'])"
      ]
     },
     "execution_count": 9,
     "metadata": {},
     "output_type": "execute_result"
    }
   ],
   "source": [
    "feed.keys()"
   ]
  },
  {
   "cell_type": "code",
   "execution_count": 10,
   "metadata": {},
   "outputs": [
    {
     "data": {
      "text/plain": [
       "bool"
      ]
     },
     "execution_count": 10,
     "metadata": {},
     "output_type": "execute_result"
    }
   ],
   "source": [
    "type(feed.bozo)"
   ]
  },
  {
   "cell_type": "code",
   "execution_count": 11,
   "metadata": {},
   "outputs": [
    {
     "data": {
      "text/plain": [
       "feedparser.util.FeedParserDict"
      ]
     },
     "execution_count": 11,
     "metadata": {},
     "output_type": "execute_result"
    }
   ],
   "source": [
    "type(feed.feed)"
   ]
  },
  {
   "cell_type": "code",
   "execution_count": 12,
   "metadata": {},
   "outputs": [
    {
     "data": {
      "text/plain": [
       "'rss20'"
      ]
     },
     "execution_count": 12,
     "metadata": {},
     "output_type": "execute_result"
    }
   ],
   "source": [
    "feed.version"
   ]
  },
  {
   "cell_type": "code",
   "execution_count": 13,
   "metadata": {},
   "outputs": [
    {
     "name": "stdout",
     "output_type": "stream",
     "text": [
      "Well done, you have a well-formed feed!\n"
     ]
    }
   ],
   "source": [
    "if feed.bozo == 0:\n",
    "    print(\"Well done, you have a well-formed feed!\")\n",
    "else:\n",
    "    print(\"Potential trouble ahead.\")"
   ]
  },
  {
   "cell_type": "code",
   "execution_count": 14,
   "metadata": {},
   "outputs": [
    {
     "data": {
      "text/plain": [
       "dict_keys(['webfeeds_analytics', 'title', 'title_detail', 'links', 'link', 'subtitle', 'subtitle_detail', 'language', 'published', 'published_parsed', 'updated', 'updated_parsed', 'authors', 'author', 'author_detail', 'publisher', 'publisher_detail'])"
      ]
     },
     "execution_count": 14,
     "metadata": {},
     "output_type": "execute_result"
    }
   ],
   "source": [
    "feed.feed.keys()"
   ]
  },
  {
   "cell_type": "code",
   "execution_count": 15,
   "metadata": {},
   "outputs": [
    {
     "name": "stdout",
     "output_type": "stream",
     "text": [
      "New On Netflix USA\n",
      "https://usa.newonnetflix.info\n",
      "RSS feed for new additions over the last 5 days to Netflix USA (100% unofficial!). A project by MaFt.co.uk\n"
     ]
    }
   ],
   "source": [
    "print(feed.feed.title)\n",
    "print(feed.feed.link)\n",
    "print(feed.feed.description)"
   ]
  },
  {
   "cell_type": "code",
   "execution_count": 16,
   "metadata": {},
   "outputs": [
    {
     "data": {
      "text/plain": [
       "'Mon, 28 Jun 2021 21:01:16 GMT'"
      ]
     },
     "execution_count": 16,
     "metadata": {},
     "output_type": "execute_result"
    }
   ],
   "source": [
    "feed.feed.published"
   ]
  },
  {
   "cell_type": "code",
   "execution_count": 17,
   "metadata": {},
   "outputs": [
    {
     "data": {
      "text/plain": [
       "'Mon, 28 Jun 2021 21:01:16 GMT'"
      ]
     },
     "execution_count": 17,
     "metadata": {},
     "output_type": "execute_result"
    }
   ],
   "source": [
    "feed.feed.get('published', 'N/A')"
   ]
  },
  {
   "cell_type": "code",
   "execution_count": 18,
   "metadata": {},
   "outputs": [
    {
     "data": {
      "text/plain": [
       "17"
      ]
     },
     "execution_count": 18,
     "metadata": {},
     "output_type": "execute_result"
    }
   ],
   "source": [
    "len(feed.entries)"
   ]
  },
  {
   "cell_type": "code",
   "execution_count": 19,
   "metadata": {},
   "outputs": [
    {
     "data": {
      "text/plain": [
       "list"
      ]
     },
     "execution_count": 19,
     "metadata": {},
     "output_type": "execute_result"
    }
   ],
   "source": [
    "type(feed.entries)"
   ]
  },
  {
   "cell_type": "code",
   "execution_count": 20,
   "metadata": {},
   "outputs": [
    {
     "data": {
      "text/plain": [
       "'29th Jun: StarBeam (2021), 4 Seasons [TV-Y] - New Episodes (6.4/10)'"
      ]
     },
     "execution_count": 20,
     "metadata": {},
     "output_type": "execute_result"
    }
   ],
   "source": [
    "feed.entries[0].title"
   ]
  },
  {
   "cell_type": "code",
   "execution_count": 21,
   "metadata": {},
   "outputs": [
    {
     "name": "stdout",
     "output_type": "stream",
     "text": [
      "0 29th Jun: StarBeam (2021), 4 Seasons [TV-Y] - New Episodes (6.4/10)\n",
      "1 28th Jun: Wanted (2019), 1hr 29m [TV-14] (6.5/10)\n",
      "2 28th Jun: Killing Them Softly (2012), 1hr 37m [R] - Streaming Again (6.1/10)\n",
      "3 28th Jun: A Way Back Home (2020), 1hr 21m [TV-14] (5.95/10)\n",
      "4 28th Jun: The Seven Deadly Sins (2021), 5 Seasons [TV-14] - New Episodes (7/10)\n",
      "5 26th Jun: Into the Wind (2018), 1hr 16m [TV-MA] (7.05/10)\n",
      "6 26th Jun: Wonder Boy (2019), 1hr 22m [TV-14] (6.6/10)\n",
      "7 25th Jun: The Ice Road (2021), 1hr 48m [PG-13] (6/10)\n",
      "8 25th Jun: Ray (2021), 1 Season [TV-MA] (6/10)\n",
      "9 25th Jun: Sex/Life (2021), 1 Season [TV-MA] (6/10)\n",
      "10 25th Jun: The A List (2021), 2 Seasons [TV-PG] - New Episodes (5.7/10)\n",
      "11 24th Jun: Here Comes the Rain (2010), 1hr 40m [TV-MA] (6.1/10)\n",
      "12 24th Jun: The Seventh Day (2021), 1hr 27m [R] (5.2/10)\n",
      "13 24th Jun: Godzilla Singular Point (2021), 1 Season [TV-14] (6.55/10)\n",
      "14 24th Jun: Jiva! (2021), 1 Season [TV-MA] (6/10)\n",
      "15 24th Jun: Sisters on Track (2021), 1hr 36m [PG] (6.25/10)\n",
      "16 24th Jun: The Naked Director (2021), 2 Seasons [TV-MA] - New Episodes (6.85/10)\n"
     ]
    }
   ],
   "source": [
    "i = 0\n",
    "for entry in feed.entries:\n",
    "    print(i, feed.entries[i].title)\n",
    "    i += 1"
   ]
  },
  {
   "cell_type": "code",
   "execution_count": 22,
   "metadata": {},
   "outputs": [],
   "source": [
    "df = pd.DataFrame(feed.entries)"
   ]
  },
  {
   "cell_type": "code",
   "execution_count": 23,
   "metadata": {},
   "outputs": [
    {
     "data": {
      "text/html": [
       "<div>\n",
       "<style scoped>\n",
       "    .dataframe tbody tr th:only-of-type {\n",
       "        vertical-align: middle;\n",
       "    }\n",
       "\n",
       "    .dataframe tbody tr th {\n",
       "        vertical-align: top;\n",
       "    }\n",
       "\n",
       "    .dataframe thead th {\n",
       "        text-align: right;\n",
       "    }\n",
       "</style>\n",
       "<table border=\"1\" class=\"dataframe\">\n",
       "  <thead>\n",
       "    <tr style=\"text-align: right;\">\n",
       "      <th></th>\n",
       "      <th>title</th>\n",
       "      <th>title_detail</th>\n",
       "      <th>links</th>\n",
       "      <th>link</th>\n",
       "      <th>summary</th>\n",
       "      <th>summary_detail</th>\n",
       "      <th>published</th>\n",
       "      <th>published_parsed</th>\n",
       "      <th>id</th>\n",
       "      <th>guidislink</th>\n",
       "    </tr>\n",
       "  </thead>\n",
       "  <tbody>\n",
       "    <tr>\n",
       "      <th>0</th>\n",
       "      <td>29th Jun: StarBeam (2021), 4 Seasons [TV-Y] - ...</td>\n",
       "      <td>{'type': 'text/plain', 'language': None, 'base...</td>\n",
       "      <td>[{'rel': 'alternate', 'type': 'text/html', 'hr...</td>\n",
       "      <td>https://usa.newonnetflix.info/info/80215155</td>\n",
       "      <td>[New Episodes] When colorful villains come out...</td>\n",
       "      <td>{'type': 'text/html', 'language': None, 'base'...</td>\n",
       "      <td>Mon, 28 Jun 2021 21:01:16 GMT</td>\n",
       "      <td>(2021, 6, 28, 21, 1, 16, 0, 179, 0)</td>\n",
       "      <td>https://usa.newonnetflix.info/info/80215155</td>\n",
       "      <td>False</td>\n",
       "    </tr>\n",
       "    <tr>\n",
       "      <th>1</th>\n",
       "      <td>28th Jun: Wanted (2019), 1hr 29m [TV-14] (6.5/10)</td>\n",
       "      <td>{'type': 'text/plain', 'language': None, 'base...</td>\n",
       "      <td>[{'rel': 'alternate', 'type': 'text/html', 'hr...</td>\n",
       "      <td>https://usa.newonnetflix.info/info/81424408</td>\n",
       "      <td>Four seniors embark on misadventures after bre...</td>\n",
       "      <td>{'type': 'text/html', 'language': None, 'base'...</td>\n",
       "      <td>Mon, 28 Jun 2021 08:18:07 GMT</td>\n",
       "      <td>(2021, 6, 28, 8, 18, 7, 0, 179, 0)</td>\n",
       "      <td>https://usa.newonnetflix.info/info/81424408</td>\n",
       "      <td>False</td>\n",
       "    </tr>\n",
       "    <tr>\n",
       "      <th>2</th>\n",
       "      <td>28th Jun: Killing Them Softly (2012), 1hr 37m ...</td>\n",
       "      <td>{'type': 'text/plain', 'language': None, 'base...</td>\n",
       "      <td>[{'rel': 'alternate', 'type': 'text/html', 'hr...</td>\n",
       "      <td>https://usa.newonnetflix.info/info/70209252</td>\n",
       "      <td>[Streaming Again] When a couple of low-level c...</td>\n",
       "      <td>{'type': 'text/html', 'language': None, 'base'...</td>\n",
       "      <td>Mon, 28 Jun 2021 01:07:31 GMT</td>\n",
       "      <td>(2021, 6, 28, 1, 7, 31, 0, 179, 0)</td>\n",
       "      <td>https://usa.newonnetflix.info/info/70209252</td>\n",
       "      <td>False</td>\n",
       "    </tr>\n",
       "    <tr>\n",
       "      <th>3</th>\n",
       "      <td>28th Jun: A Way Back Home (2020), 1hr 21m [TV-...</td>\n",
       "      <td>{'type': 'text/plain', 'language': None, 'base...</td>\n",
       "      <td>[{'rel': 'alternate', 'type': 'text/html', 'hr...</td>\n",
       "      <td>https://usa.newonnetflix.info/info/81437267</td>\n",
       "      <td>After receiving a terminal diagnosis, a man fa...</td>\n",
       "      <td>{'type': 'text/html', 'language': None, 'base'...</td>\n",
       "      <td>Mon, 28 Jun 2021 01:07:10 GMT</td>\n",
       "      <td>(2021, 6, 28, 1, 7, 10, 0, 179, 0)</td>\n",
       "      <td>https://usa.newonnetflix.info/info/81437267</td>\n",
       "      <td>False</td>\n",
       "    </tr>\n",
       "    <tr>\n",
       "      <th>4</th>\n",
       "      <td>28th Jun: The Seven Deadly Sins (2021), 5 Seas...</td>\n",
       "      <td>{'type': 'text/plain', 'language': None, 'base...</td>\n",
       "      <td>[{'rel': 'alternate', 'type': 'text/html', 'hr...</td>\n",
       "      <td>https://usa.newonnetflix.info/info/80050063</td>\n",
       "      <td>[New Episodes] When a kingdom is taken over by...</td>\n",
       "      <td>{'type': 'text/html', 'language': None, 'base'...</td>\n",
       "      <td>Sun, 27 Jun 2021 21:01:08 GMT</td>\n",
       "      <td>(2021, 6, 27, 21, 1, 8, 6, 178, 0)</td>\n",
       "      <td>https://usa.newonnetflix.info/info/80050063</td>\n",
       "      <td>False</td>\n",
       "    </tr>\n",
       "  </tbody>\n",
       "</table>\n",
       "</div>"
      ],
      "text/plain": [
       "                                               title  \\\n",
       "0  29th Jun: StarBeam (2021), 4 Seasons [TV-Y] - ...   \n",
       "1  28th Jun: Wanted (2019), 1hr 29m [TV-14] (6.5/10)   \n",
       "2  28th Jun: Killing Them Softly (2012), 1hr 37m ...   \n",
       "3  28th Jun: A Way Back Home (2020), 1hr 21m [TV-...   \n",
       "4  28th Jun: The Seven Deadly Sins (2021), 5 Seas...   \n",
       "\n",
       "                                        title_detail  \\\n",
       "0  {'type': 'text/plain', 'language': None, 'base...   \n",
       "1  {'type': 'text/plain', 'language': None, 'base...   \n",
       "2  {'type': 'text/plain', 'language': None, 'base...   \n",
       "3  {'type': 'text/plain', 'language': None, 'base...   \n",
       "4  {'type': 'text/plain', 'language': None, 'base...   \n",
       "\n",
       "                                               links  \\\n",
       "0  [{'rel': 'alternate', 'type': 'text/html', 'hr...   \n",
       "1  [{'rel': 'alternate', 'type': 'text/html', 'hr...   \n",
       "2  [{'rel': 'alternate', 'type': 'text/html', 'hr...   \n",
       "3  [{'rel': 'alternate', 'type': 'text/html', 'hr...   \n",
       "4  [{'rel': 'alternate', 'type': 'text/html', 'hr...   \n",
       "\n",
       "                                          link  \\\n",
       "0  https://usa.newonnetflix.info/info/80215155   \n",
       "1  https://usa.newonnetflix.info/info/81424408   \n",
       "2  https://usa.newonnetflix.info/info/70209252   \n",
       "3  https://usa.newonnetflix.info/info/81437267   \n",
       "4  https://usa.newonnetflix.info/info/80050063   \n",
       "\n",
       "                                             summary  \\\n",
       "0  [New Episodes] When colorful villains come out...   \n",
       "1  Four seniors embark on misadventures after bre...   \n",
       "2  [Streaming Again] When a couple of low-level c...   \n",
       "3  After receiving a terminal diagnosis, a man fa...   \n",
       "4  [New Episodes] When a kingdom is taken over by...   \n",
       "\n",
       "                                      summary_detail  \\\n",
       "0  {'type': 'text/html', 'language': None, 'base'...   \n",
       "1  {'type': 'text/html', 'language': None, 'base'...   \n",
       "2  {'type': 'text/html', 'language': None, 'base'...   \n",
       "3  {'type': 'text/html', 'language': None, 'base'...   \n",
       "4  {'type': 'text/html', 'language': None, 'base'...   \n",
       "\n",
       "                       published                     published_parsed  \\\n",
       "0  Mon, 28 Jun 2021 21:01:16 GMT  (2021, 6, 28, 21, 1, 16, 0, 179, 0)   \n",
       "1  Mon, 28 Jun 2021 08:18:07 GMT   (2021, 6, 28, 8, 18, 7, 0, 179, 0)   \n",
       "2  Mon, 28 Jun 2021 01:07:31 GMT   (2021, 6, 28, 1, 7, 31, 0, 179, 0)   \n",
       "3  Mon, 28 Jun 2021 01:07:10 GMT   (2021, 6, 28, 1, 7, 10, 0, 179, 0)   \n",
       "4  Sun, 27 Jun 2021 21:01:08 GMT   (2021, 6, 27, 21, 1, 8, 6, 178, 0)   \n",
       "\n",
       "                                            id  guidislink  \n",
       "0  https://usa.newonnetflix.info/info/80215155       False  \n",
       "1  https://usa.newonnetflix.info/info/81424408       False  \n",
       "2  https://usa.newonnetflix.info/info/70209252       False  \n",
       "3  https://usa.newonnetflix.info/info/81437267       False  \n",
       "4  https://usa.newonnetflix.info/info/80050063       False  "
      ]
     },
     "execution_count": 23,
     "metadata": {},
     "output_type": "execute_result"
    }
   ],
   "source": [
    "df.head()"
   ]
  },
  {
   "cell_type": "code",
   "execution_count": null,
   "metadata": {},
   "outputs": [],
   "source": []
  }
 ],
 "metadata": {
  "kernelspec": {
   "display_name": "Python 3",
   "language": "python",
   "name": "python3"
  },
  "language_info": {
   "codemirror_mode": {
    "name": "ipython",
    "version": 3
   },
   "file_extension": ".py",
   "mimetype": "text/x-python",
   "name": "python",
   "nbconvert_exporter": "python",
   "pygments_lexer": "ipython3",
   "version": "3.7.6"
  }
 },
 "nbformat": 4,
 "nbformat_minor": 4
}
