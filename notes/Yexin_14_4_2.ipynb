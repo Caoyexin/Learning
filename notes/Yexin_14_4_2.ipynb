{
  "nbformat": 4,
  "nbformat_minor": 0,
  "metadata": {
    "colab": {
      "name": "Yexin_14.4.2.ipynb",
      "private_outputs": true,
      "provenance": [],
      "collapsed_sections": [],
      "toc_visible": true
    },
    "kernelspec": {
      "display_name": "Python 3",
      "name": "python3"
    },
    "language_info": {
      "codemirror_mode": {
        "name": "ipython",
        "version": 3
      },
      "file_extension": ".py",
      "mimetype": "text/x-python",
      "name": "python",
      "nbconvert_exporter": "python",
      "pygments_lexer": "ipython3",
      "version": "3.7.5"
    }
  },
  "cells": [
    {
      "cell_type": "markdown",
      "metadata": {
        "id": "EIdT9iu_Z4Rb"
      },
      "source": [
        "# Basic regression: Predict fuel efficiency"
      ]
    },
    {
      "cell_type": "code",
      "metadata": {
        "execution": {
          "iopub.execute_input": "2021-06-19T02:12:01.722334Z",
          "iopub.status.busy": "2021-06-19T02:12:01.721620Z",
          "iopub.status.idle": "2021-06-19T02:12:02.459097Z",
          "shell.execute_reply": "2021-06-19T02:12:02.459540Z"
        },
        "id": "1rRo8oNqZ-Rj"
      },
      "source": [
        "import matplotlib.pyplot as plt\n",
        "import numpy as np\n",
        "import pandas as pd\n",
        "import seaborn as sns\n",
        "\n",
        "\n",
        "# Make numpy printouts easier to read.\n",
        "np.set_printoptions(precision=3, suppress=True)"
      ],
      "execution_count": null,
      "outputs": []
    },
    {
      "cell_type": "code",
      "metadata": {
        "execution": {
          "iopub.execute_input": "2021-06-19T02:12:02.463722Z",
          "iopub.status.busy": "2021-06-19T02:12:02.463169Z",
          "iopub.status.idle": "2021-06-19T02:12:03.648523Z",
          "shell.execute_reply": "2021-06-19T02:12:03.648892Z"
        },
        "id": "9xQKvCJ85kCQ"
      },
      "source": [
        "import tensorflow as tf\n",
        "\n",
        "from tensorflow import keras\n",
        "from tensorflow.keras import layers\n",
        "from tensorflow.keras.layers.experimental import preprocessing\n",
        "\n",
        "print(tf.__version__)"
      ],
      "execution_count": null,
      "outputs": []
    },
    {
      "cell_type": "markdown",
      "metadata": {
        "id": "gFh9ne3FZ-On"
      },
      "source": [
        "### Get the data\n",
        "First download and import the dataset using pandas:"
      ]
    },
    {
      "cell_type": "code",
      "metadata": {
        "execution": {
          "iopub.execute_input": "2021-06-19T02:12:03.654722Z",
          "iopub.status.busy": "2021-06-19T02:12:03.654163Z",
          "iopub.status.idle": "2021-06-19T02:12:04.358078Z",
          "shell.execute_reply": "2021-06-19T02:12:04.358528Z"
        },
        "id": "CiX2FI4gZtTt"
      },
      "source": [
        "url = 'http://archive.ics.uci.edu/ml/machine-learning-databases/auto-mpg/auto-mpg.data'\n",
        "column_names = ['MPG', 'Cylinders', 'Displacement', 'Horsepower', 'Weight',\n",
        "                'Acceleration', 'Model Year', 'Origin']\n",
        "\n",
        "raw_dataset = pd.read_csv(url, names=column_names,\n",
        "                          na_values='?', comment='\\t',\n",
        "                          sep=' ', skipinitialspace=True)"
      ],
      "execution_count": null,
      "outputs": []
    },
    {
      "cell_type": "code",
      "metadata": {
        "execution": {
          "iopub.execute_input": "2021-06-19T02:12:04.368388Z",
          "iopub.status.busy": "2021-06-19T02:12:04.363518Z",
          "iopub.status.idle": "2021-06-19T02:12:04.375410Z",
          "shell.execute_reply": "2021-06-19T02:12:04.374999Z"
        },
        "id": "2oY3pMPagJrO"
      },
      "source": [
        "dataset = raw_dataset.copy()\n",
        "dataset.tail()"
      ],
      "execution_count": null,
      "outputs": []
    },
    {
      "cell_type": "markdown",
      "metadata": {
        "id": "3MWuJTKEDM-f"
      },
      "source": [
        "### Clean the data"
      ]
    },
    {
      "cell_type": "code",
      "metadata": {
        "execution": {
          "iopub.execute_input": "2021-06-19T02:12:04.381115Z",
          "iopub.status.busy": "2021-06-19T02:12:04.380384Z",
          "iopub.status.idle": "2021-06-19T02:12:04.383506Z",
          "shell.execute_reply": "2021-06-19T02:12:04.383034Z"
        },
        "id": "JEJHhN65a2VV"
      },
      "source": [
        "dataset.isna().sum()"
      ],
      "execution_count": null,
      "outputs": []
    },
    {
      "cell_type": "code",
      "metadata": {
        "execution": {
          "iopub.execute_input": "2021-06-19T02:12:04.388417Z",
          "iopub.status.busy": "2021-06-19T02:12:04.387843Z",
          "iopub.status.idle": "2021-06-19T02:12:04.391275Z",
          "shell.execute_reply": "2021-06-19T02:12:04.390853Z"
        },
        "id": "4ZUDosChC1UN"
      },
      "source": [
        "dataset = dataset.dropna()"
      ],
      "execution_count": null,
      "outputs": []
    },
    {
      "cell_type": "code",
      "metadata": {
        "execution": {
          "iopub.execute_input": "2021-06-19T02:12:04.396054Z",
          "iopub.status.busy": "2021-06-19T02:12:04.395453Z",
          "iopub.status.idle": "2021-06-19T02:12:04.397746Z",
          "shell.execute_reply": "2021-06-19T02:12:04.397311Z"
        },
        "id": "gWNTD2QjBWFJ"
      },
      "source": [
        "dataset['Origin'] = dataset['Origin'].map({1: 'USA', 2: 'Europe', 3: 'Japan'})"
      ],
      "execution_count": null,
      "outputs": []
    },
    {
      "cell_type": "code",
      "metadata": {
        "execution": {
          "iopub.execute_input": "2021-06-19T02:12:04.411602Z",
          "iopub.status.busy": "2021-06-19T02:12:04.407112Z",
          "iopub.status.idle": "2021-06-19T02:12:04.414505Z",
          "shell.execute_reply": "2021-06-19T02:12:04.414117Z"
        },
        "id": "ulXz4J7PAUzk"
      },
      "source": [
        "dataset = pd.get_dummies(dataset, columns=['Origin'], prefix='', prefix_sep='')\n",
        "dataset.tail()"
      ],
      "execution_count": null,
      "outputs": []
    },
    {
      "cell_type": "markdown",
      "metadata": {
        "id": "Cuym4yvk76vU"
      },
      "source": [
        "### Split the data into train and test\n"
      ]
    },
    {
      "cell_type": "code",
      "metadata": {
        "execution": {
          "iopub.execute_input": "2021-06-19T02:12:04.419796Z",
          "iopub.status.busy": "2021-06-19T02:12:04.419237Z",
          "iopub.status.idle": "2021-06-19T02:12:04.421475Z",
          "shell.execute_reply": "2021-06-19T02:12:04.421085Z"
        },
        "id": "qn-IGhUE7_1H"
      },
      "source": [
        "train_dataset = dataset.sample(frac=0.8, random_state=0)\n",
        "test_dataset = dataset.drop(train_dataset.index)"
      ],
      "execution_count": null,
      "outputs": []
    },
    {
      "cell_type": "code",
      "metadata": {
        "execution": {
          "iopub.execute_input": "2021-06-19T02:12:04.661447Z",
          "iopub.status.busy": "2021-06-19T02:12:04.454498Z",
          "iopub.status.idle": "2021-06-19T02:12:06.519885Z",
          "shell.execute_reply": "2021-06-19T02:12:06.520249Z"
        },
        "id": "oRKO_x8gWKv-"
      },
      "source": [
        "sns.pairplot(train_dataset[['MPG', 'Cylinders', 'Displacement', 'Weight']], diag_kind='kde')"
      ],
      "execution_count": null,
      "outputs": []
    },
    {
      "cell_type": "code",
      "metadata": {
        "execution": {
          "iopub.execute_input": "2021-06-19T02:12:06.527891Z",
          "iopub.status.busy": "2021-06-19T02:12:06.526080Z",
          "iopub.status.idle": "2021-06-19T02:12:06.555002Z",
          "shell.execute_reply": "2021-06-19T02:12:06.554585Z"
        },
        "id": "yi2FzC3T21jR"
      },
      "source": [
        "train_dataset.describe().transpose()"
      ],
      "execution_count": null,
      "outputs": []
    },
    {
      "cell_type": "markdown",
      "metadata": {
        "id": "Db7Auq1yXUvh"
      },
      "source": [
        "### Split features from labels\n"
      ]
    },
    {
      "cell_type": "code",
      "metadata": {
        "execution": {
          "iopub.execute_input": "2021-06-19T02:12:06.559830Z",
          "iopub.status.busy": "2021-06-19T02:12:06.559124Z",
          "iopub.status.idle": "2021-06-19T02:12:06.561956Z",
          "shell.execute_reply": "2021-06-19T02:12:06.561564Z"
        },
        "id": "t2sluJdCW7jN"
      },
      "source": [
        "train_features = train_dataset.copy()\n",
        "test_features = test_dataset.copy()\n",
        "\n",
        "train_labels = train_features.pop('MPG')\n",
        "test_labels = test_features.pop('MPG')"
      ],
      "execution_count": null,
      "outputs": []
    },
    {
      "cell_type": "markdown",
      "metadata": {
        "id": "mRklxK5s388r"
      },
      "source": [
        "## Normalization"
      ]
    },
    {
      "cell_type": "code",
      "metadata": {
        "execution": {
          "iopub.execute_input": "2021-06-19T02:12:06.570028Z",
          "iopub.status.busy": "2021-06-19T02:12:06.566873Z",
          "iopub.status.idle": "2021-06-19T02:12:06.589473Z",
          "shell.execute_reply": "2021-06-19T02:12:06.589805Z"
        },
        "id": "IcmY6lKKbkw8"
      },
      "source": [
        "train_dataset.describe().transpose()[['mean', 'std']]"
      ],
      "execution_count": null,
      "outputs": []
    },
    {
      "cell_type": "code",
      "metadata": {
        "execution": {
          "iopub.execute_input": "2021-06-19T02:12:06.593382Z",
          "iopub.status.busy": "2021-06-19T02:12:06.592850Z",
          "iopub.status.idle": "2021-06-19T02:12:06.598082Z",
          "shell.execute_reply": "2021-06-19T02:12:06.597607Z"
        },
        "id": "JlC5ooJrgjQF"
      },
      "source": [
        "normalizer = preprocessing.Normalization(axis=-1)"
      ],
      "execution_count": null,
      "outputs": []
    },
    {
      "cell_type": "markdown",
      "metadata": {
        "id": "XYA2Ap6nVOha"
      },
      "source": [
        "Then `.adapt()` it to the data:"
      ]
    },
    {
      "cell_type": "code",
      "metadata": {
        "execution": {
          "iopub.execute_input": "2021-06-19T02:12:07.860779Z",
          "iopub.status.busy": "2021-06-19T02:12:07.860095Z",
          "iopub.status.idle": "2021-06-19T02:12:08.304992Z",
          "shell.execute_reply": "2021-06-19T02:12:08.305422Z"
        },
        "id": "CrBbbjbwV91f"
      },
      "source": [
        "normalizer.adapt(np.array(train_features))"
      ],
      "execution_count": null,
      "outputs": []
    },
    {
      "cell_type": "markdown",
      "metadata": {
        "id": "oZccMR5yV9YV"
      },
      "source": [
        "This calculates the mean and variance, and stores them in the layer. "
      ]
    },
    {
      "cell_type": "code",
      "metadata": {
        "execution": {
          "iopub.execute_input": "2021-06-19T02:12:08.309201Z",
          "iopub.status.busy": "2021-06-19T02:12:08.308641Z",
          "iopub.status.idle": "2021-06-19T02:12:08.311492Z",
          "shell.execute_reply": "2021-06-19T02:12:08.311841Z"
        },
        "id": "GGn-ukwxSPtx"
      },
      "source": [
        "print(normalizer.mean.numpy())"
      ],
      "execution_count": null,
      "outputs": []
    },
    {
      "cell_type": "markdown",
      "metadata": {
        "id": "oGWKaF9GSRuN"
      },
      "source": [
        "When the layer is called it returns the input data, with each feature independently normalized:"
      ]
    },
    {
      "cell_type": "code",
      "metadata": {
        "execution": {
          "iopub.execute_input": "2021-06-19T02:12:08.316506Z",
          "iopub.status.busy": "2021-06-19T02:12:08.315968Z",
          "iopub.status.idle": "2021-06-19T02:12:08.320968Z",
          "shell.execute_reply": "2021-06-19T02:12:08.321297Z"
        },
        "id": "2l7zFL_XWIRu"
      },
      "source": [
        "first = np.array(train_features[:1])\n",
        "\n",
        "with np.printoptions(precision=2, suppress=True):\n",
        "  print('First example:', first)\n",
        "  print()\n",
        "  print('Normalized:', normalizer(first).numpy())"
      ],
      "execution_count": null,
      "outputs": []
    },
    {
      "cell_type": "markdown",
      "metadata": {
        "id": "6o3CrycBXA2s"
      },
      "source": [
        "## Linear regression\n",
        "\n",
        "Before building a DNN model, start with a linear regression."
      ]
    },
    {
      "cell_type": "markdown",
      "metadata": {
        "id": "lFby9n0tnHkw"
      },
      "source": [
        "### One Variable\n",
        "\n",
        "Start with a single-variable linear regression, to predict `MPG` from `Horsepower`.\n",
        "\n",
        "Training a model with `tf.keras` typically starts by defining the model architecture.\n",
        "\n",
        "In this case use a `keras.Sequential` model. This model represents a sequence of steps. In this case there are two steps:\n",
        "\n",
        "* Normalize the input `horsepower`.\n",
        "* Apply a linear transformation ($y = mx+b$) to produce 1 output using `layers.Dense`.\n",
        "\n",
        "The number of _inputs_ can either be set by the `input_shape` argument, or automatically when the model is run for the first time."
      ]
    },
    {
      "cell_type": "markdown",
      "metadata": {
        "id": "Xp3gAFn3TPv8"
      },
      "source": [
        "First create the horsepower `Normalization` layer:"
      ]
    },
    {
      "cell_type": "code",
      "metadata": {
        "execution": {
          "iopub.execute_input": "2021-06-19T02:12:08.325972Z",
          "iopub.status.busy": "2021-06-19T02:12:08.325438Z",
          "iopub.status.idle": "2021-06-19T02:12:08.454735Z",
          "shell.execute_reply": "2021-06-19T02:12:08.455237Z"
        },
        "id": "1gJAy0fKs1TS"
      },
      "source": [
        "horsepower = np.array(train_features['Horsepower'])\n",
        "\n",
        "horsepower_normalizer = preprocessing.Normalization(input_shape=[1,], axis=None)\n",
        "horsepower_normalizer.adapt(horsepower)"
      ],
      "execution_count": null,
      "outputs": []
    },
    {
      "cell_type": "markdown",
      "metadata": {
        "id": "4NVlHJY2TWlC"
      },
      "source": [
        "Build the sequential model:"
      ]
    },
    {
      "cell_type": "code",
      "metadata": {
        "execution": {
          "iopub.execute_input": "2021-06-19T02:12:08.462753Z",
          "iopub.status.busy": "2021-06-19T02:12:08.462180Z",
          "iopub.status.idle": "2021-06-19T02:12:08.480630Z",
          "shell.execute_reply": "2021-06-19T02:12:08.480968Z"
        },
        "id": "c0sXM7qLlKfZ"
      },
      "source": [
        "horsepower_model = tf.keras.Sequential([\n",
        "    horsepower_normalizer,\n",
        "    layers.Dense(units=1)\n",
        "])\n",
        "\n",
        "horsepower_model.summary()"
      ],
      "execution_count": null,
      "outputs": []
    },
    {
      "cell_type": "code",
      "metadata": {
        "execution": {
          "iopub.execute_input": "2021-06-19T02:12:08.484860Z",
          "iopub.status.busy": "2021-06-19T02:12:08.484308Z",
          "iopub.status.idle": "2021-06-19T02:12:08.958485Z",
          "shell.execute_reply": "2021-06-19T02:12:08.958883Z"
        },
        "id": "UfV1HS6bns-s"
      },
      "source": [
        "horsepower_model.predict(horsepower[:10])"
      ],
      "execution_count": null,
      "outputs": []
    },
    {
      "cell_type": "code",
      "metadata": {
        "execution": {
          "iopub.execute_input": "2021-06-19T02:12:09.073824Z",
          "iopub.status.busy": "2021-06-19T02:12:09.073207Z",
          "iopub.status.idle": "2021-06-19T02:12:09.090246Z",
          "shell.execute_reply": "2021-06-19T02:12:09.090585Z"
        },
        "id": "JxA_3lpOm-SK"
      },
      "source": [
        "horsepower_model.compile(\n",
        "    optimizer=tf.optimizers.Adam(learning_rate=0.1),\n",
        "    loss='mean_absolute_error')"
      ],
      "execution_count": null,
      "outputs": []
    },
    {
      "cell_type": "code",
      "metadata": {
        "execution": {
          "iopub.execute_input": "2021-06-19T02:12:09.095656Z",
          "iopub.status.busy": "2021-06-19T02:12:09.095122Z",
          "iopub.status.idle": "2021-06-19T02:12:11.760962Z",
          "shell.execute_reply": "2021-06-19T02:12:11.760518Z"
        },
        "id": "-iSrNy59nRAp"
      },
      "source": [
        "%%time\n",
        "history = horsepower_model.fit(\n",
        "    train_features['Horsepower'], train_labels,\n",
        "    epochs=100,\n",
        "    # suppress logging\n",
        "    verbose=0,\n",
        "    # Calculate validation results on 20% of the training data\n",
        "    validation_split = 0.2)"
      ],
      "execution_count": null,
      "outputs": []
    },
    {
      "cell_type": "code",
      "metadata": {
        "execution": {
          "iopub.execute_input": "2021-06-19T02:12:11.770125Z",
          "iopub.status.busy": "2021-06-19T02:12:11.769577Z",
          "iopub.status.idle": "2021-06-19T02:12:11.772272Z",
          "shell.execute_reply": "2021-06-19T02:12:11.771861Z"
        },
        "id": "YCAwD_y4AdC3"
      },
      "source": [
        "hist = pd.DataFrame(history.history)\n",
        "hist['epoch'] = history.epoch\n",
        "hist.tail()"
      ],
      "execution_count": null,
      "outputs": []
    },
    {
      "cell_type": "code",
      "metadata": {
        "execution": {
          "iopub.execute_input": "2021-06-19T02:12:11.776300Z",
          "iopub.status.busy": "2021-06-19T02:12:11.775754Z",
          "iopub.status.idle": "2021-06-19T02:12:11.778064Z",
          "shell.execute_reply": "2021-06-19T02:12:11.777568Z"
        },
        "id": "9E54UoZunqhc"
      },
      "source": [
        "def plot_loss(history):\n",
        "  plt.plot(history.history['loss'], label='loss')\n",
        "  plt.plot(history.history['val_loss'], label='val_loss')\n",
        "  plt.ylim([0, 10])\n",
        "  plt.xlabel('Epoch')\n",
        "  plt.ylabel('Error [MPG]')\n",
        "  plt.legend()\n",
        "  plt.grid(True)"
      ],
      "execution_count": null,
      "outputs": []
    },
    {
      "cell_type": "code",
      "metadata": {
        "execution": {
          "iopub.execute_input": "2021-06-19T02:12:11.814003Z",
          "iopub.status.busy": "2021-06-19T02:12:11.813441Z",
          "iopub.status.idle": "2021-06-19T02:12:11.893433Z",
          "shell.execute_reply": "2021-06-19T02:12:11.893029Z"
        },
        "id": "yYsQYrIZyqjz"
      },
      "source": [
        "plot_loss(history)"
      ],
      "execution_count": null,
      "outputs": []
    },
    {
      "cell_type": "code",
      "metadata": {
        "execution": {
          "iopub.execute_input": "2021-06-19T02:12:11.897676Z",
          "iopub.status.busy": "2021-06-19T02:12:11.897042Z",
          "iopub.status.idle": "2021-06-19T02:12:11.937760Z",
          "shell.execute_reply": "2021-06-19T02:12:11.937261Z"
        },
        "id": "kDZ8EvNYrDtx"
      },
      "source": [
        "test_results = {}\n",
        "\n",
        "test_results['horsepower_model'] = horsepower_model.evaluate(\n",
        "    test_features['Horsepower'],\n",
        "    test_labels, verbose=0)"
      ],
      "execution_count": null,
      "outputs": []
    },
    {
      "cell_type": "code",
      "metadata": {
        "execution": {
          "iopub.execute_input": "2021-06-19T02:12:11.941334Z",
          "iopub.status.busy": "2021-06-19T02:12:11.940799Z",
          "iopub.status.idle": "2021-06-19T02:12:12.001498Z",
          "shell.execute_reply": "2021-06-19T02:12:12.001836Z"
        },
        "id": "xDS2JEtOn9Jn"
      },
      "source": [
        "x = tf.linspace(0.0, 250, 251)\n",
        "y = horsepower_model.predict(x)"
      ],
      "execution_count": null,
      "outputs": []
    },
    {
      "cell_type": "code",
      "metadata": {
        "execution": {
          "iopub.execute_input": "2021-06-19T02:12:12.005768Z",
          "iopub.status.busy": "2021-06-19T02:12:12.005218Z",
          "iopub.status.idle": "2021-06-19T02:12:12.006867Z",
          "shell.execute_reply": "2021-06-19T02:12:12.007297Z"
        },
        "id": "rttFCTU8czsI"
      },
      "source": [
        "def plot_horsepower(x, y):\n",
        "  plt.scatter(train_features['Horsepower'], train_labels, label='Data')\n",
        "  plt.plot(x, y, color='k', label='Predictions')\n",
        "  plt.xlabel('Horsepower')\n",
        "  plt.ylabel('MPG')\n",
        "  plt.legend()"
      ],
      "execution_count": null,
      "outputs": []
    },
    {
      "cell_type": "code",
      "metadata": {
        "execution": {
          "iopub.execute_input": "2021-06-19T02:12:12.028005Z",
          "iopub.status.busy": "2021-06-19T02:12:12.027348Z",
          "iopub.status.idle": "2021-06-19T02:12:12.136773Z",
          "shell.execute_reply": "2021-06-19T02:12:12.137157Z"
        },
        "id": "7l9ZiAOEUNBL"
      },
      "source": [
        "plot_horsepower(x,y)"
      ],
      "execution_count": null,
      "outputs": []
    },
    {
      "cell_type": "markdown",
      "metadata": {
        "id": "Yk2RmlqPoM9u"
      },
      "source": [
        "### Multiple inputs"
      ]
    },
    {
      "cell_type": "code",
      "metadata": {
        "execution": {
          "iopub.execute_input": "2021-06-19T02:12:12.142743Z",
          "iopub.status.busy": "2021-06-19T02:12:12.142198Z",
          "iopub.status.idle": "2021-06-19T02:12:12.156359Z",
          "shell.execute_reply": "2021-06-19T02:12:12.156706Z"
        },
        "id": "ssnVcKg7oMe6"
      },
      "source": [
        "linear_model = tf.keras.Sequential([\n",
        "    normalizer,\n",
        "    layers.Dense(units=1)\n",
        "])"
      ],
      "execution_count": null,
      "outputs": []
    },
    {
      "cell_type": "code",
      "metadata": {
        "execution": {
          "iopub.execute_input": "2021-06-19T02:12:12.160854Z",
          "iopub.status.busy": "2021-06-19T02:12:12.160270Z",
          "iopub.status.idle": "2021-06-19T02:12:12.219811Z",
          "shell.execute_reply": "2021-06-19T02:12:12.219404Z"
        },
        "id": "DynfJV18WiuT"
      },
      "source": [
        "linear_model.predict(train_features[:10])"
      ],
      "execution_count": null,
      "outputs": []
    },
    {
      "cell_type": "code",
      "metadata": {
        "execution": {
          "iopub.execute_input": "2021-06-19T02:12:12.223481Z",
          "iopub.status.busy": "2021-06-19T02:12:12.222897Z",
          "iopub.status.idle": "2021-06-19T02:12:12.225888Z",
          "shell.execute_reply": "2021-06-19T02:12:12.226213Z"
        },
        "id": "DwJ4Fq0RXBQf"
      },
      "source": [
        "linear_model.layers[1].kernel"
      ],
      "execution_count": null,
      "outputs": []
    },
    {
      "cell_type": "code",
      "metadata": {
        "execution": {
          "iopub.execute_input": "2021-06-19T02:12:12.231529Z",
          "iopub.status.busy": "2021-06-19T02:12:12.230916Z",
          "iopub.status.idle": "2021-06-19T02:12:12.234498Z",
          "shell.execute_reply": "2021-06-19T02:12:12.234090Z"
        },
        "id": "A0Sv_Ybr0szp"
      },
      "source": [
        "linear_model.compile(\n",
        "    optimizer=tf.optimizers.Adam(learning_rate=0.1),\n",
        "    loss='mean_absolute_error')"
      ],
      "execution_count": null,
      "outputs": []
    },
    {
      "cell_type": "code",
      "metadata": {
        "execution": {
          "iopub.execute_input": "2021-06-19T02:12:12.238573Z",
          "iopub.status.busy": "2021-06-19T02:12:12.237962Z",
          "iopub.status.idle": "2021-06-19T02:12:14.864339Z",
          "shell.execute_reply": "2021-06-19T02:12:14.864724Z"
        },
        "id": "EZoOYORvoTSe"
      },
      "source": [
        "%%time\n",
        "history = linear_model.fit(\n",
        "    train_features, train_labels, \n",
        "    epochs=100,\n",
        "    # suppress logging\n",
        "    verbose=0,\n",
        "    # Calculate validation results on 20% of the training data\n",
        "    validation_split = 0.2)"
      ],
      "execution_count": null,
      "outputs": []
    },
    {
      "cell_type": "code",
      "metadata": {
        "execution": {
          "iopub.execute_input": "2021-06-19T02:12:14.882514Z",
          "iopub.status.busy": "2021-06-19T02:12:14.881466Z",
          "iopub.status.idle": "2021-06-19T02:12:14.986161Z",
          "shell.execute_reply": "2021-06-19T02:12:14.986491Z"
        },
        "id": "4sWO3W0koYgu"
      },
      "source": [
        "plot_loss(history)"
      ],
      "execution_count": null,
      "outputs": []
    },
    {
      "cell_type": "code",
      "metadata": {
        "execution": {
          "iopub.execute_input": "2021-06-19T02:12:14.990509Z",
          "iopub.status.busy": "2021-06-19T02:12:14.989959Z",
          "iopub.status.idle": "2021-06-19T02:12:15.033455Z",
          "shell.execute_reply": "2021-06-19T02:12:15.033792Z"
        },
        "id": "jNC3D1DGsGgK"
      },
      "source": [
        "test_results['linear_model'] = linear_model.evaluate(\n",
        "    test_features, test_labels, verbose=0)"
      ],
      "execution_count": null,
      "outputs": []
    },
    {
      "cell_type": "markdown",
      "metadata": {
        "id": "SmjdzxKzEu1-"
      },
      "source": [
        "## A DNN regression"
      ]
    },
    {
      "cell_type": "code",
      "metadata": {
        "execution": {
          "iopub.execute_input": "2021-06-19T02:12:15.038509Z",
          "iopub.status.busy": "2021-06-19T02:12:15.037821Z",
          "iopub.status.idle": "2021-06-19T02:12:15.040285Z",
          "shell.execute_reply": "2021-06-19T02:12:15.039872Z"
        },
        "id": "c26juK7ZG8j-"
      },
      "source": [
        "def build_and_compile_model(norm):\n",
        "  model = keras.Sequential([\n",
        "      norm,\n",
        "      layers.Dense(64, activation='relu'),\n",
        "      layers.Dense(64, activation='relu'),\n",
        "      layers.Dense(1)\n",
        "  ])\n",
        "\n",
        "  model.compile(loss='mean_absolute_error',\n",
        "                optimizer=tf.keras.optimizers.Adam(0.001))\n",
        "  return model"
      ],
      "execution_count": null,
      "outputs": []
    },
    {
      "cell_type": "markdown",
      "metadata": {
        "id": "7T4RP1V36gVn"
      },
      "source": [
        "### One variable"
      ]
    },
    {
      "cell_type": "markdown",
      "metadata": {
        "id": "xvu9gtxTZR5V"
      },
      "source": [
        "Start with a DNN model for a single input: \"Horsepower\""
      ]
    },
    {
      "cell_type": "code",
      "metadata": {
        "execution": {
          "iopub.execute_input": "2021-06-19T02:12:15.045996Z",
          "iopub.status.busy": "2021-06-19T02:12:15.045445Z",
          "iopub.status.idle": "2021-06-19T02:12:15.074321Z",
          "shell.execute_reply": "2021-06-19T02:12:15.073923Z"
        },
        "id": "cGbPb-PHGbhs"
      },
      "source": [
        "dnn_horsepower_model = build_and_compile_model(horsepower_normalizer)"
      ],
      "execution_count": null,
      "outputs": []
    },
    {
      "cell_type": "code",
      "metadata": {
        "execution": {
          "iopub.execute_input": "2021-06-19T02:12:15.078937Z",
          "iopub.status.busy": "2021-06-19T02:12:15.078014Z",
          "iopub.status.idle": "2021-06-19T02:12:15.081872Z",
          "shell.execute_reply": "2021-06-19T02:12:15.081480Z"
        },
        "id": "ReAD0n6MsFK-"
      },
      "source": [
        "dnn_horsepower_model.summary()"
      ],
      "execution_count": null,
      "outputs": []
    },
    {
      "cell_type": "markdown",
      "metadata": {
        "id": "0-qWCsh6DlyH"
      },
      "source": [
        "Train the model:"
      ]
    },
    {
      "cell_type": "code",
      "metadata": {
        "execution": {
          "iopub.execute_input": "2021-06-19T02:12:15.086201Z",
          "iopub.status.busy": "2021-06-19T02:12:15.085665Z",
          "iopub.status.idle": "2021-06-19T02:12:17.949120Z",
          "shell.execute_reply": "2021-06-19T02:12:17.948634Z"
        },
        "id": "sD7qHCmNIOY0"
      },
      "source": [
        "%%time\n",
        "history = dnn_horsepower_model.fit(\n",
        "    train_features['Horsepower'], train_labels,\n",
        "    validation_split=0.2,\n",
        "    verbose=0, epochs=100)"
      ],
      "execution_count": null,
      "outputs": []
    },
    {
      "cell_type": "code",
      "metadata": {
        "execution": {
          "iopub.execute_input": "2021-06-19T02:12:17.962709Z",
          "iopub.status.busy": "2021-06-19T02:12:17.961206Z",
          "iopub.status.idle": "2021-06-19T02:12:18.075835Z",
          "shell.execute_reply": "2021-06-19T02:12:18.075400Z"
        },
        "id": "NcF6UWjdCU8T"
      },
      "source": [
        "plot_loss(history)"
      ],
      "execution_count": null,
      "outputs": []
    },
    {
      "cell_type": "code",
      "metadata": {
        "execution": {
          "iopub.execute_input": "2021-06-19T02:12:18.079879Z",
          "iopub.status.busy": "2021-06-19T02:12:18.079311Z",
          "iopub.status.idle": "2021-06-19T02:12:18.154630Z",
          "shell.execute_reply": "2021-06-19T02:12:18.154121Z"
        },
        "id": "hPF53Rem14NS"
      },
      "source": [
        "x = tf.linspace(0.0, 250, 251)\n",
        "y = dnn_horsepower_model.predict(x)"
      ],
      "execution_count": null,
      "outputs": []
    },
    {
      "cell_type": "code",
      "metadata": {
        "execution": {
          "iopub.execute_input": "2021-06-19T02:12:18.177843Z",
          "iopub.status.busy": "2021-06-19T02:12:18.176730Z",
          "iopub.status.idle": "2021-06-19T02:12:18.285145Z",
          "shell.execute_reply": "2021-06-19T02:12:18.285495Z"
        },
        "id": "rsf9rD8I17Wq"
      },
      "source": [
        "plot_horsepower(x, y)"
      ],
      "execution_count": null,
      "outputs": []
    },
    {
      "cell_type": "code",
      "metadata": {
        "execution": {
          "iopub.execute_input": "2021-06-19T02:12:18.290080Z",
          "iopub.status.busy": "2021-06-19T02:12:18.289233Z",
          "iopub.status.idle": "2021-06-19T02:12:18.330925Z",
          "shell.execute_reply": "2021-06-19T02:12:18.331316Z"
        },
        "id": "bJjM0dU52XtN"
      },
      "source": [
        "test_results['dnn_horsepower_model'] = dnn_horsepower_model.evaluate(\n",
        "    test_features['Horsepower'], test_labels,\n",
        "    verbose=0)"
      ],
      "execution_count": null,
      "outputs": []
    },
    {
      "cell_type": "markdown",
      "metadata": {
        "id": "S_2Btebp2e64"
      },
      "source": [
        "### Full model"
      ]
    },
    {
      "cell_type": "code",
      "metadata": {
        "execution": {
          "iopub.execute_input": "2021-06-19T02:12:18.338148Z",
          "iopub.status.busy": "2021-06-19T02:12:18.337097Z",
          "iopub.status.idle": "2021-06-19T02:12:18.367226Z",
          "shell.execute_reply": "2021-06-19T02:12:18.367601Z"
        },
        "id": "c0mhscXh2k36"
      },
      "source": [
        "dnn_model = build_and_compile_model(normalizer)\n",
        "dnn_model.summary()"
      ],
      "execution_count": null,
      "outputs": []
    },
    {
      "cell_type": "code",
      "metadata": {
        "execution": {
          "iopub.execute_input": "2021-06-19T02:12:18.372560Z",
          "iopub.status.busy": "2021-06-19T02:12:18.371698Z",
          "iopub.status.idle": "2021-06-19T02:12:21.223876Z",
          "shell.execute_reply": "2021-06-19T02:12:21.223392Z"
        },
        "id": "CXDENACl2tuW"
      },
      "source": [
        "%%time\n",
        "history = dnn_model.fit(\n",
        "    train_features, train_labels,\n",
        "    validation_split=0.2,\n",
        "    verbose=0, epochs=100)"
      ],
      "execution_count": null,
      "outputs": []
    },
    {
      "cell_type": "code",
      "metadata": {
        "execution": {
          "iopub.execute_input": "2021-06-19T02:12:21.238671Z",
          "iopub.status.busy": "2021-06-19T02:12:21.238016Z",
          "iopub.status.idle": "2021-06-19T02:12:21.338446Z",
          "shell.execute_reply": "2021-06-19T02:12:21.338834Z"
        },
        "id": "-9Dbj0fX23RQ"
      },
      "source": [
        "plot_loss(history)"
      ],
      "execution_count": null,
      "outputs": []
    },
    {
      "cell_type": "code",
      "metadata": {
        "execution": {
          "iopub.execute_input": "2021-06-19T02:12:21.342848Z",
          "iopub.status.busy": "2021-06-19T02:12:21.342270Z",
          "iopub.status.idle": "2021-06-19T02:12:21.385730Z",
          "shell.execute_reply": "2021-06-19T02:12:21.386116Z"
        },
        "id": "-bZIa96W3c7K"
      },
      "source": [
        "test_results['dnn_model'] = dnn_model.evaluate(test_features, test_labels, verbose=0)"
      ],
      "execution_count": null,
      "outputs": []
    },
    {
      "cell_type": "markdown",
      "metadata": {
        "id": "uiCucdPLfMkZ"
      },
      "source": [
        "## Performance"
      ]
    },
    {
      "cell_type": "code",
      "metadata": {
        "execution": {
          "iopub.execute_input": "2021-06-19T02:12:21.394015Z",
          "iopub.status.busy": "2021-06-19T02:12:21.393391Z",
          "iopub.status.idle": "2021-06-19T02:12:21.396577Z",
          "shell.execute_reply": "2021-06-19T02:12:21.396183Z"
        },
        "id": "e5_ooufM5iH2"
      },
      "source": [
        "pd.DataFrame(test_results, index=['Mean absolute error [MPG]']).T"
      ],
      "execution_count": null,
      "outputs": []
    },
    {
      "cell_type": "markdown",
      "metadata": {
        "id": "ft603OzXuEZC"
      },
      "source": [
        "### Make predictions\n"
      ]
    },
    {
      "cell_type": "code",
      "metadata": {
        "execution": {
          "iopub.execute_input": "2021-06-19T02:12:21.401088Z",
          "iopub.status.busy": "2021-06-19T02:12:21.400539Z",
          "iopub.status.idle": "2021-06-19T02:12:21.562114Z",
          "shell.execute_reply": "2021-06-19T02:12:21.561710Z"
        },
        "id": "Xe7RXH3N3CWU"
      },
      "source": [
        "test_predictions = dnn_model.predict(test_features).flatten()\n",
        "\n",
        "a = plt.axes(aspect='equal')\n",
        "plt.scatter(test_labels, test_predictions)\n",
        "plt.xlabel('True Values [MPG]')\n",
        "plt.ylabel('Predictions [MPG]')\n",
        "lims = [0, 50]\n",
        "plt.xlim(lims)\n",
        "plt.ylim(lims)\n",
        "_ = plt.plot(lims, lims)\n"
      ],
      "execution_count": null,
      "outputs": []
    },
    {
      "cell_type": "code",
      "metadata": {
        "execution": {
          "iopub.execute_input": "2021-06-19T02:12:21.584513Z",
          "iopub.status.busy": "2021-06-19T02:12:21.581281Z",
          "iopub.status.idle": "2021-06-19T02:12:21.697549Z",
          "shell.execute_reply": "2021-06-19T02:12:21.697922Z"
        },
        "id": "f-OHX4DiXd8x"
      },
      "source": [
        "error = test_predictions - test_labels\n",
        "plt.hist(error, bins=25)\n",
        "plt.xlabel('Prediction Error [MPG]')\n",
        "_ = plt.ylabel('Count')"
      ],
      "execution_count": null,
      "outputs": []
    },
    {
      "cell_type": "code",
      "metadata": {
        "execution": {
          "iopub.execute_input": "2021-06-19T02:12:21.708548Z",
          "iopub.status.busy": "2021-06-19T02:12:21.702446Z",
          "iopub.status.idle": "2021-06-19T02:12:22.384583Z",
          "shell.execute_reply": "2021-06-19T02:12:22.384085Z"
        },
        "id": "4-WwLlmfT-mb"
      },
      "source": [
        "dnn_model.save('dnn_model')"
      ],
      "execution_count": null,
      "outputs": []
    },
    {
      "cell_type": "code",
      "metadata": {
        "execution": {
          "iopub.execute_input": "2021-06-19T02:12:22.389062Z",
          "iopub.status.busy": "2021-06-19T02:12:22.388425Z",
          "iopub.status.idle": "2021-06-19T02:12:22.694087Z",
          "shell.execute_reply": "2021-06-19T02:12:22.694496Z"
        },
        "id": "dyyyj2zVT-mf"
      },
      "source": [
        "reloaded = tf.keras.models.load_model('dnn_model')\n",
        "\n",
        "test_results['reloaded'] = reloaded.evaluate(\n",
        "    test_features, test_labels, verbose=0)"
      ],
      "execution_count": null,
      "outputs": []
    },
    {
      "cell_type": "code",
      "metadata": {
        "execution": {
          "iopub.execute_input": "2021-06-19T02:12:22.701924Z",
          "iopub.status.busy": "2021-06-19T02:12:22.701370Z",
          "iopub.status.idle": "2021-06-19T02:12:22.703475Z",
          "shell.execute_reply": "2021-06-19T02:12:22.703796Z"
        },
        "id": "f_GchJ2tg-2o"
      },
      "source": [
        "pd.DataFrame(test_results, index=['Mean absolute error [MPG]']).T"
      ],
      "execution_count": null,
      "outputs": []
    }
  ]
}