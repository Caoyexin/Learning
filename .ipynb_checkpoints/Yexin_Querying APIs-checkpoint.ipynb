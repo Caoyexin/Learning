{
 "cells": [
  {
   "cell_type": "code",
   "execution_count": 8,
   "metadata": {},
   "outputs": [],
   "source": [
    "import json\n",
    "import urllib.request as u2"
   ]
  },
  {
   "cell_type": "code",
   "execution_count": 12,
   "metadata": {},
   "outputs": [
    {
     "name": "stdout",
     "output_type": "stream",
     "text": [
      "<class 'dict'>\n"
     ]
    }
   ],
   "source": [
    "data = json.loads(urllib.request.urlopen('http://www.omdbapi.com/?t=Game%20of%20Thrones&Season=1&apikey=b10dbd3').read().\\\n",
    "                  decode('utf8'))\n",
    "print(type(data))"
   ]
  },
  {
   "cell_type": "code",
   "execution_count": 18,
   "metadata": {},
   "outputs": [
    {
     "data": {
      "text/plain": [
       "dict_keys(['Title', 'Season', 'totalSeasons', 'Episodes', 'Response'])"
      ]
     },
     "execution_count": 18,
     "metadata": {},
     "output_type": "execute_result"
    }
   ],
   "source": [
    "data.keys()"
   ]
  },
  {
   "cell_type": "code",
   "execution_count": 19,
   "metadata": {},
   "outputs": [
    {
     "data": {
      "text/plain": [
       "{'Title': 'Game of Thrones',\n",
       " 'Season': '1',\n",
       " 'totalSeasons': '8',\n",
       " 'Episodes': [{'Title': 'Winter Is Coming',\n",
       "   'Released': '2011-04-17',\n",
       "   'Episode': '1',\n",
       "   'imdbRating': '9.1',\n",
       "   'imdbID': 'tt1480055'},\n",
       "  {'Title': 'The Kingsroad',\n",
       "   'Released': '2011-04-24',\n",
       "   'Episode': '2',\n",
       "   'imdbRating': '8.8',\n",
       "   'imdbID': 'tt1668746'},\n",
       "  {'Title': 'Lord Snow',\n",
       "   'Released': '2011-05-01',\n",
       "   'Episode': '3',\n",
       "   'imdbRating': '8.7',\n",
       "   'imdbID': 'tt1829962'},\n",
       "  {'Title': 'Cripples, Bastards, and Broken Things',\n",
       "   'Released': '2011-05-08',\n",
       "   'Episode': '4',\n",
       "   'imdbRating': '8.8',\n",
       "   'imdbID': 'tt1829963'},\n",
       "  {'Title': 'The Wolf and the Lion',\n",
       "   'Released': '2011-05-15',\n",
       "   'Episode': '5',\n",
       "   'imdbRating': '9.1',\n",
       "   'imdbID': 'tt1829964'},\n",
       "  {'Title': 'A Golden Crown',\n",
       "   'Released': '2011-05-22',\n",
       "   'Episode': '6',\n",
       "   'imdbRating': '9.2',\n",
       "   'imdbID': 'tt1837862'},\n",
       "  {'Title': 'You Win or You Die',\n",
       "   'Released': '2011-05-29',\n",
       "   'Episode': '7',\n",
       "   'imdbRating': '9.2',\n",
       "   'imdbID': 'tt1837863'},\n",
       "  {'Title': 'The Pointy End',\n",
       "   'Released': '2011-06-05',\n",
       "   'Episode': '8',\n",
       "   'imdbRating': '9.0',\n",
       "   'imdbID': 'tt1837864'},\n",
       "  {'Title': 'Baelor',\n",
       "   'Released': '2011-06-12',\n",
       "   'Episode': '9',\n",
       "   'imdbRating': '9.6',\n",
       "   'imdbID': 'tt1851398'},\n",
       "  {'Title': 'Fire and Blood',\n",
       "   'Released': '2011-06-19',\n",
       "   'Episode': '10',\n",
       "   'imdbRating': '9.5',\n",
       "   'imdbID': 'tt1851397'}],\n",
       " 'Response': 'True'}"
      ]
     },
     "execution_count": 19,
     "metadata": {},
     "output_type": "execute_result"
    }
   ],
   "source": [
    "data"
   ]
  },
  {
   "cell_type": "code",
   "execution_count": 20,
   "metadata": {},
   "outputs": [
    {
     "name": "stdout",
     "output_type": "stream",
     "text": [
      "Winter Is Coming 9.1\n",
      "The Kingsroad 8.8\n",
      "Lord Snow 8.7\n",
      "Cripples, Bastards, and Broken Things 8.8\n",
      "The Wolf and the Lion 9.1\n",
      "A Golden Crown 9.2\n",
      "You Win or You Die 9.2\n",
      "The Pointy End 9.0\n",
      "Baelor 9.6\n",
      "Fire and Blood 9.5\n"
     ]
    }
   ],
   "source": [
    "for episode in data['Episodes']:\n",
    "  print(episode['Title'], episode['imdbRating'])"
   ]
  },
  {
   "cell_type": "code",
   "execution_count": 21,
   "metadata": {},
   "outputs": [],
   "source": [
    "# write as data frame\n",
    "import pandas as pd\n",
    "\n",
    "df = pd.DataFrame.from_dict(data['Episodes'])"
   ]
  },
  {
   "cell_type": "code",
   "execution_count": 22,
   "metadata": {},
   "outputs": [
    {
     "data": {
      "text/html": [
       "<div>\n",
       "<style scoped>\n",
       "    .dataframe tbody tr th:only-of-type {\n",
       "        vertical-align: middle;\n",
       "    }\n",
       "\n",
       "    .dataframe tbody tr th {\n",
       "        vertical-align: top;\n",
       "    }\n",
       "\n",
       "    .dataframe thead th {\n",
       "        text-align: right;\n",
       "    }\n",
       "</style>\n",
       "<table border=\"1\" class=\"dataframe\">\n",
       "  <thead>\n",
       "    <tr style=\"text-align: right;\">\n",
       "      <th></th>\n",
       "      <th>Title</th>\n",
       "      <th>Released</th>\n",
       "      <th>Episode</th>\n",
       "      <th>imdbRating</th>\n",
       "      <th>imdbID</th>\n",
       "    </tr>\n",
       "  </thead>\n",
       "  <tbody>\n",
       "    <tr>\n",
       "      <th>0</th>\n",
       "      <td>Winter Is Coming</td>\n",
       "      <td>2011-04-17</td>\n",
       "      <td>1</td>\n",
       "      <td>9.1</td>\n",
       "      <td>tt1480055</td>\n",
       "    </tr>\n",
       "    <tr>\n",
       "      <th>1</th>\n",
       "      <td>The Kingsroad</td>\n",
       "      <td>2011-04-24</td>\n",
       "      <td>2</td>\n",
       "      <td>8.8</td>\n",
       "      <td>tt1668746</td>\n",
       "    </tr>\n",
       "    <tr>\n",
       "      <th>2</th>\n",
       "      <td>Lord Snow</td>\n",
       "      <td>2011-05-01</td>\n",
       "      <td>3</td>\n",
       "      <td>8.7</td>\n",
       "      <td>tt1829962</td>\n",
       "    </tr>\n",
       "    <tr>\n",
       "      <th>3</th>\n",
       "      <td>Cripples, Bastards, and Broken Things</td>\n",
       "      <td>2011-05-08</td>\n",
       "      <td>4</td>\n",
       "      <td>8.8</td>\n",
       "      <td>tt1829963</td>\n",
       "    </tr>\n",
       "    <tr>\n",
       "      <th>4</th>\n",
       "      <td>The Wolf and the Lion</td>\n",
       "      <td>2011-05-15</td>\n",
       "      <td>5</td>\n",
       "      <td>9.1</td>\n",
       "      <td>tt1829964</td>\n",
       "    </tr>\n",
       "    <tr>\n",
       "      <th>5</th>\n",
       "      <td>A Golden Crown</td>\n",
       "      <td>2011-05-22</td>\n",
       "      <td>6</td>\n",
       "      <td>9.2</td>\n",
       "      <td>tt1837862</td>\n",
       "    </tr>\n",
       "    <tr>\n",
       "      <th>6</th>\n",
       "      <td>You Win or You Die</td>\n",
       "      <td>2011-05-29</td>\n",
       "      <td>7</td>\n",
       "      <td>9.2</td>\n",
       "      <td>tt1837863</td>\n",
       "    </tr>\n",
       "    <tr>\n",
       "      <th>7</th>\n",
       "      <td>The Pointy End</td>\n",
       "      <td>2011-06-05</td>\n",
       "      <td>8</td>\n",
       "      <td>9.0</td>\n",
       "      <td>tt1837864</td>\n",
       "    </tr>\n",
       "    <tr>\n",
       "      <th>8</th>\n",
       "      <td>Baelor</td>\n",
       "      <td>2011-06-12</td>\n",
       "      <td>9</td>\n",
       "      <td>9.6</td>\n",
       "      <td>tt1851398</td>\n",
       "    </tr>\n",
       "    <tr>\n",
       "      <th>9</th>\n",
       "      <td>Fire and Blood</td>\n",
       "      <td>2011-06-19</td>\n",
       "      <td>10</td>\n",
       "      <td>9.5</td>\n",
       "      <td>tt1851397</td>\n",
       "    </tr>\n",
       "  </tbody>\n",
       "</table>\n",
       "</div>"
      ],
      "text/plain": [
       "                                   Title    Released Episode imdbRating  \\\n",
       "0                       Winter Is Coming  2011-04-17       1        9.1   \n",
       "1                          The Kingsroad  2011-04-24       2        8.8   \n",
       "2                              Lord Snow  2011-05-01       3        8.7   \n",
       "3  Cripples, Bastards, and Broken Things  2011-05-08       4        8.8   \n",
       "4                  The Wolf and the Lion  2011-05-15       5        9.1   \n",
       "5                         A Golden Crown  2011-05-22       6        9.2   \n",
       "6                     You Win or You Die  2011-05-29       7        9.2   \n",
       "7                         The Pointy End  2011-06-05       8        9.0   \n",
       "8                                 Baelor  2011-06-12       9        9.6   \n",
       "9                         Fire and Blood  2011-06-19      10        9.5   \n",
       "\n",
       "      imdbID  \n",
       "0  tt1480055  \n",
       "1  tt1668746  \n",
       "2  tt1829962  \n",
       "3  tt1829963  \n",
       "4  tt1829964  \n",
       "5  tt1837862  \n",
       "6  tt1837863  \n",
       "7  tt1837864  \n",
       "8  tt1851398  \n",
       "9  tt1851397  "
      ]
     },
     "execution_count": 22,
     "metadata": {},
     "output_type": "execute_result"
    }
   ],
   "source": [
    "df"
   ]
  },
  {
   "cell_type": "code",
   "execution_count": 24,
   "metadata": {},
   "outputs": [],
   "source": [
    "# save for later use\n",
    "with open('omdb_api_data.json', 'w') as f:\n",
    "    json.dump(data, f)"
   ]
  },
  {
   "cell_type": "code",
   "execution_count": 25,
   "metadata": {},
   "outputs": [],
   "source": [
    "# Request API keys \n",
    "#curl -v -XPOST http://api.dp.la/v2/api_key/yexin.cao@gmail.com\n",
    "# API Key: 4a601f946e85ccee697439279e084a22"
   ]
  },
  {
   "cell_type": "code",
   "execution_count": 28,
   "metadata": {},
   "outputs": [],
   "source": [
    "with open(\"config_secret.json\") as key_file:\n",
    "    key = json.load(key_file)"
   ]
  },
  {
   "cell_type": "code",
   "execution_count": 29,
   "metadata": {},
   "outputs": [
    {
     "data": {
      "text/plain": [
       "{'api_key': '4a601f946e85ccee697439279e084a22'}"
      ]
     },
     "execution_count": 29,
     "metadata": {},
     "output_type": "execute_result"
    }
   ],
   "source": [
    "key"
   ]
  },
  {
   "cell_type": "code",
   "execution_count": 30,
   "metadata": {},
   "outputs": [],
   "source": [
    "import requests"
   ]
  },
  {
   "cell_type": "code",
   "execution_count": 83,
   "metadata": {},
   "outputs": [],
   "source": [
    "# No / at the end of items (different from sample)\n",
    "url = 'http://api.dp.la/v2/items'\n",
    "# q: query\n",
    "params = {'api_key' : key['api_key'], 'q' : 'goats+AND+cats'}"
   ]
  },
  {
   "cell_type": "code",
   "execution_count": 84,
   "metadata": {},
   "outputs": [],
   "source": [
    "# response object\n",
    "r = requests.get(url, params=params)"
   ]
  },
  {
   "cell_type": "code",
   "execution_count": 85,
   "metadata": {},
   "outputs": [
    {
     "data": {
      "text/plain": [
       "requests.models.Response"
      ]
     },
     "execution_count": 85,
     "metadata": {},
     "output_type": "execute_result"
    }
   ],
   "source": [
    "type(r)"
   ]
  },
  {
   "cell_type": "code",
   "execution_count": 86,
   "metadata": {},
   "outputs": [
    {
     "data": {
      "text/plain": [
       "'http://api.dp.la/v2/items?api_key=4a601f946e85ccee697439279e084a22&q=goats%2BAND%2Bcats'"
      ]
     },
     "execution_count": 86,
     "metadata": {},
     "output_type": "execute_result"
    }
   ],
   "source": [
    "r.url"
   ]
  },
  {
   "cell_type": "code",
   "execution_count": 87,
   "metadata": {},
   "outputs": [
    {
     "data": {
      "text/plain": [
       "200"
      ]
     },
     "execution_count": 87,
     "metadata": {},
     "output_type": "execute_result"
    }
   ],
   "source": [
    "r.status_code"
   ]
  },
  {
   "cell_type": "code",
   "execution_count": 88,
   "metadata": {},
   "outputs": [
    {
     "name": "stdout",
     "output_type": "stream",
     "text": [
      "b'{\"count\":34,\"start\":1,\"limit\":10,\"docs\":[{\"id\":\"1e3a1a91d96428e4ca063b2386e60b7b\",\"@context\":\"http://dp.la/api/items/context\",\"@id\":\"http://dp.la/api/items/1e3a1a91d96428e4ca063b2386e60b7b\",\"aggregatedCHO\":\"#sourceResource\",\"dataProvider\":\"Bradley University\",\"ingestDate\":\"2021-04-20T17:14:45.858Z\",\"ingestType\":\"item\",\"isShownAt\":\"http://collections.carli.illinois.edu/cdm/ref/collection/bra_jack/id/630\",\"object\":\"http://collections.carli.illinois.edu/utils/getthumbnail/collection/bra_jack/id/630\",\"originalRecord\":{\"stringValue\":\"<record \\\\nxmlns=\\\\\"http://www.openarchives.org/OAI/2.0/\\\\\" xmlns:xsi=\\\\\"http://www.w3.org/2001/XMLSchema-instance\\\\\">\\\\n  <header>\\\\n    <identifier>\\\\n      urn:dpla-repox.carli.illinois.edu:carli_bra_jack:oai:collections.carli.illinois.edu:bra_jack/630\\\\n    </identifier>\\\\n    <datestamp>2021-04-11</datestamp>\\\\n    <setSpec>carli_bra_jack</setSpec>\\\\n  </header>\\\\n  <metadata>\\\\n    <oai_qdc:qualifieddc \\\\n    xsi:schemaLocation=\\\\\"http://worldcat.org/xmlschemas/qdc-1.0/ http://worldcat.org/xmlschemas/qdc/1.0/qdc-1.0.xsd http://purl.org/net/oclcterms http://worldcat.org/xmlschemas/oclcterms/1.4/oclcterms-1.4.xsd\\\\\" xmlns:oai_qdc=\\\\\"http://worldcat.org/xmlschemas/qdc-1.0/\\\\\" xmlns:dc=\\\\\"http://purl.org/dc/elements/1.1/\\\\\" xmlns:dcterms=\\\\\"http://purl.org/dc/terms/\\\\\" xmlns:xsi=\\\\\"http://www.w3.org/2001/XMLSchema-instance\\\\\">\\\\n      <dc:title>Dogs cats and goats</dc:title>\\\\n      <dc:subject>\\\\n        Farms; Animals; Animal feeding; Cats; Dogs; Goats; Hay; Barns; Machinery; Agricultural facilities;\\\\n      </dc:subject>\\\\n      <dc:description>\\\\n        Puppies, cats, and goats on farm eating together with barns, machinery, and hay.  From a series of images shot by (Peoria) Journal Star photographer Jack L. Bradley\\\\n      </dc:description>\\\\n      <dc:creator>Jack L. Bradley</dc:creator>\\\\n      <dc:date>1975</dc:date>\\\\n      <dc:type>Image</dc:type>\\\\n      <dc:format>Photographic Prints</dc:format>\\\\n      <dc:source>\\\\n        Image JB-P 712 in the Jack L. Bradley Collection, Bradley University Library, Special Collections Center\\\\n      </dc:source>\\\\n      <dc:rights>\\\\n        This resource is provided for educational purposes only. Copyright is held by the Cullom-Davis Library at Bradley University; images may not be downloaded, reproduced, or distributed in any format without written permission. Higher resolution prints may be available from the Library for a nominal fee. Please contact the Special Collections department at +1 309-677-2822 with any questions. Any attempt to circumvent the access controls placed on this file is a violation of United States and international copyright laws and is subject to criminal prosecution.\\\\n      </dc:rights>\\\\n      <dcterms:isPartOf>\\\\n        The Jack Bradley Photojournalism Collection (Bradley University)\\\\n      </dcterms:isPartOf>\\\\n      <dcterms:provenance>Bradley University</dcterms:provenance>\\\\n      <dc:identifier>\\\\n        http://collections.carli.illinois.edu/cdm/ref/collection/bra_jack/id/630\\\\n      </dc:identifier>\\\\n      <edm:preview xmlns:edm=\\\\\"http://www.europeana.eu/schemas/edm/\\\\\">\\\\n        http://collections.carli.illinois.edu/utils/getthumbnail/collection/bra_jack/id/630\\\\n      </edm:preview>\\\\n      <edm:isShownAt xmlns:edm=\\\\\"http://www.europeana.eu/schemas/edm/\\\\\">\\\\n        http://collections.carli.illinois.edu/cdm/ref/collection/bra_jack/id/630\\\\n      </edm:isShownAt>\\\\n</oai_qdc:qualifieddc>\\\\n  </metadata>\\\\n  <about>\\\\n    <oaiProvenance:provenance \\\\n    xsi:schemaLocation=\\\\\"http://www.openarchives.org/OAI/2.0/provenance http://www.openarchives.org/OAI/2.0/provenance.xsd\\\\\" xmlns:oaiProvenance=\\\\\"http://www.openarchives.org/OAI/2.0/provenance\\\\\" xmlns:xsi=\\\\\"http://www.w3.org/2001/XMLSchema-instance\\\\\">\\\\n      <oaiProvenance:originDescription harvestDate=\\\\\"2021-04-11\\\\\" altered=\\\\\"true\\\\\">\\\\n        <oaiProvenance:baseURL>\\\\n          http://collections.carli.illinois.edu/oai/oai.php\\\\n        </oaiProvenance:baseURL>\\\\n        <oaiProvenance:identifier>\\\\n          oai:collections.carli.illinois.edu:bra_jack/630\\\\n        </oaiProvenance:identifier>\\\\n        <oaiProvenance:datestamp>2021-04-11</oaiProvenance:datestamp>\\\\n        <oaiProvenance:metadataNamespace>\\\\n          http://purl.org/dc/terms/\\\\n        </oaiProvenance:metadataNamespace>\\\\n      </oaiProvenance:originDescription>\\\\n</oaiProvenance:provenance>\\\\n  </about>\\\\n</record>\\\\n\"},\"provider\":{\"@id\":\"http://dp.la/api/contributor/il\",\"name\":\"Illinois Digital Heritage Hub\"},\"sourceResource\":{\"@id\":\"http://dp.la/api/items/1e3a1a91d96428e4ca063b2386e60b7b#SourceResource\",\"collection\":[{\"title\":\"The Jack Bradley Photojournalism Collection (Bradley University)\"}],\"creator\":[\"Jack L. Bradley\"],\"date\":[{\"displayDate\":\"1975\",\"begin\":\"1975\",\"end\":\"1975\"}],\"description\":[\"Puppies, cats, and goats on farm eating together with barns, machinery, and hay. From a series of images shot by (Peoria) Journal Star photographer Jack L. Bradley\"],\"format\":[\"Photographic Prints\"],\"rights\":[\"This resource is provided for educational purposes only. Copyright is held by the Cullom-Davis Library at Bradley University; images may not be downloaded, reproduced, or distributed in any format without written permission. Higher resolution prints may be available from the Library for a nominal fee. Please contact the Special Collections department at +1 309-677-2822 with any questions. Any attempt to circumvent the access controls placed on this file is a violation of United States and international copyright laws and is subject to criminal prosecution.\"],\"subject\":[{\"name\":\"Farms\"},{\"name\":\"Animals\"},{\"name\":\"Animal feeding\"},{\"name\":\"Cats\"},{\"name\":\"Dogs\"},{\"name\":\"Goats\"},{\"name\":\"Hay\"},{\"name\":\"Barns\"},{\"name\":\"Machinery\"},{\"name\":\"Agricultural facilities\"}],\"title\":[\"Dogs cats and goats\"],\"type\":[\"image\"]},\"@type\":\"ore:Aggregation\",\"rightsCategory\":\"Unspecified Rights Status\"},{\"id\":\"ac774bfe366f0d3794a96bced3c9f664\",\"@context\":\"http://dp.la/api/items/context\",\"@id\":\"http://dp.la/api/items/ac774bfe366f0d3794a96bced3c9f664\",\"aggregatedCHO\":\"#sourceResource\",\"dataProvider\":\"Cornell University\",\"ingestDate\":\"2020-06-26T02:25:09.499Z\",\"ingestType\":\"item\",\"isShownAt\":\"http://catalog.hathitrust.org/Record/009232885\",\"object\":\"https://books.google.com/books/content?id=b2RUAAAAYAAJ&printsec=frontcover&img=1&zoom=5\",\"originalRecord\":{\"stringValue\":\"<record \\\\nxmlns:xsi=\\\\\"http://www.w3.org/2001/XMLSchema-instance\\\\\" xmlns=\\\\\"http://www.loc.gov/MARC21/slim\\\\\">\\\\n  <leader>00623cam a22001811 4500</leader>\\\\n  <controlfield tag=\\\\\"001\\\\\">009232885</controlfield>\\\\n  <controlfield tag=\\\\\"003\\\\\">MiAaHDL</controlfield>\\\\n  <controlfield tag=\\\\\"005\\\\\">20101116000000.0</controlfield>\\\\n  <controlfield tag=\\\\\"006\\\\\">m d </controlfield>\\\\n  <controlfield tag=\\\\\"007\\\\\">cr bn ---auaua</controlfield>\\\\n  <controlfield tag=\\\\\"008\\\\\">860819s1937 paua 000 0 eng d</controlfield>\\\\n  <datafield tag=\\\\\"035\\\\\" ind1=\\\\\" \\\\\" ind2=\\\\\" \\\\\">\\\\n    <subfield code=\\\\\"a\\\\\">sdr-coo1136624</subfield>\\\\n  </datafield>\\\\n  <datafield tag=\\\\\"035\\\\\" ind1=\\\\\" \\\\\" ind2=\\\\\" \\\\\">\\\\n    <subfield code=\\\\\"a\\\\\">(OCoLC)41189100</subfield>\\\\n  </datafield>\\\\n  <datafield tag=\\\\\"040\\\\\" ind1=\\\\\" \\\\\" ind2=\\\\\" \\\\\">\\\\n    <subfield code=\\\\\"a\\\\\">NIC</subfield>\\\\n    <subfield code=\\\\\"c\\\\\">NIC</subfield>\\\\n  </datafield>\\\\n  <datafield tag=\\\\\"100\\\\\" ind1=\\\\\"1\\\\\" ind2=\\\\\" \\\\\">\\\\n    <subfield code=\\\\\"a\\\\\">Simanton, W. A.</subfield>\\\\n  </datafield>\\\\n  <datafield tag=\\\\\"245\\\\\" ind1=\\\\\"1\\\\\" ind2=\\\\\"0\\\\\">\\\\n    <subfield code=\\\\\"a\\\\\">\\\\n      External parasites that attack cattle, sheep, goats, horses, mules, hogs, dogs and cats.\\\\n    </subfield>\\\\n  </datafield>\\\\n  <datafield tag=\\\\\"260\\\\\" ind1=\\\\\" \\\\\" ind2=\\\\\" \\\\\">\\\\n    <subfield code=\\\\\"a\\\\\">\\\\n      [Pittsburgh, Pa., Gulf Oil Corporation, Gulf Refining Company,\\\\n    </subfield>\\\\n    <subfield code=\\\\\"c\\\\\">1937]</subfield>\\\\n  </datafield>\\\\n  <datafield tag=\\\\\"300\\\\\" ind1=\\\\\" \\\\\" ind2=\\\\\" \\\\\">\\\\n    <subfield code=\\\\\"a\\\\\">19, [15] p.</subfield>\\\\n    <subfield code=\\\\\"b\\\\\">illus.</subfield>\\\\n    <subfield code=\\\\\"c\\\\\">24 cm.</subfield>\\\\n  </datafield>\\\\n  <datafield tag=\\\\\"490\\\\\" ind1=\\\\\"0\\\\\" ind2=\\\\\" \\\\\">\\\\n    <subfield code=\\\\\"a\\\\\">Farm and ranch bulletin,</subfield>\\\\n    <subfield code=\\\\\"v\\\\\">no. 1</subfield>\\\\n  </datafield>\\\\n  <datafield tag=\\\\\"538\\\\\" ind1=\\\\\" \\\\\" ind2=\\\\\" \\\\\">\\\\n    <subfield code=\\\\\"a\\\\\">Mode of access: Internet.</subfield>\\\\n  </datafield>\\\\n  <datafield tag=\\\\\"650\\\\\" ind1=\\\\\" \\\\\" ind2=\\\\\"0\\\\\">\\\\n    <subfield code=\\\\\"a\\\\\">Domestic animals</subfield>\\\\n    <subfield code=\\\\\"x\\\\\">Parasites</subfield>\\\\n  </datafield>\\\\n  <datafield tag=\\\\\"970\\\\\" ind1=\\\\\" \\\\\" ind2=\\\\\" \\\\\">\\\\n    <subfield code=\\\\\"a\\\\\">BK</subfield>\\\\n  </datafield>\\\\n  <datafield tag=\\\\\"974\\\\\" ind1=\\\\\" \\\\\" ind2=\\\\\" \\\\\">\\\\n    <subfield code=\\\\\"b\\\\\">COO</subfield>\\\\n    <subfield code=\\\\\"c\\\\\">COO</subfield>\\\\n    <subfield code=\\\\\"d\\\\\">20190805</subfield>\\\\n    <subfield code=\\\\\"s\\\\\">google</subfield>\\\\n    <subfield code=\\\\\"u\\\\\">coo.31924002903932</subfield>\\\\n    <subfield code=\\\\\"y\\\\\">1937</subfield>\\\\n    <subfield code=\\\\\"r\\\\\">pd</subfield>\\\\n    <subfield code=\\\\\"q\\\\\">ren</subfield>\\\\n  </datafield>\\\\n</record>\\\\n\"},\"provider\":{\"@id\":\"http://dp.la/api/contributor/hathi\",\"name\":\"HathiTrust\"},\"sourceResource\":{\"@id\":\"http://dp.la/api/items/ac774bfe366f0d3794a96bced3c9f664#SourceResource\",\"creator\":[\"Simanton, W. A\"],\"date\":[{\"displayDate\":\"1937]\"}],\"extent\":[\"19, [15] p. 24 cm.\"],\"format\":[\"Language material\",\"Electronic resource\"],\"identifier\":[\"sdr-coo1136624\",\"(OCoLC)41189100\",\"Hathi: 009232885\"],\"language\":[{\"name\":\"English\",\"iso639_3\":\"English\"}],\"publisher\":[\"[Pittsburgh, Pa., Gulf Oil Corporation, Gulf Refining Company\"],\"rights\":[\"Public domain. Learn more at http://www.hathitrust.org/access_use\"],\"subject\":[{\"name\":\"Domestic animals--Parasites\"}],\"title\":[\"External parasites that attack cattle, sheep, goats, horses, mules, hogs, dogs and cats\"],\"type\":[\"text\"]},\"@type\":\"ore:Aggregation\",\"rightsCategory\":\"Unspecified Rights Status\"},{\"id\":\"f12657e9418dd06ff8193b0c3bb35147\",\"@context\":\"http://dp.la/api/items/context\",\"@id\":\"http://dp.la/api/items/f12657e9418dd06ff8193b0c3bb35147\",\"aggregatedCHO\":\"#sourceResource\",\"dataProvider\":\"UC Berkeley, Bancroft Library\",\"ingestDate\":\"2021-04-30T04:10:37.437Z\",\"ingestType\":\"item\",\"isShownAt\":\"http://digicoll.lib.berkeley.edu/record/127579\",\"object\":\"https://thumbnails.calisphere.org/clip/150x150/f68b515dc49999c488140b61c6f8825d\",\"originalRecord\":{\"stringValue\":\"{\\\\n  \\\\\"url_item\\\\\" : \\\\\"http://digicoll.lib.berkeley.edu/record/127579\\\\\",\\\\n  \\\\\"description\\\\\" : [ \\\\\"Includes lambs, kangaroos, cayotes, donkeys with offsprings, goats and cats with kittens.\\\\\" ],\\\\n  \\\\\"format\\\\\" : [ \\\\\"News photographs--California--San Francisco Bay Area.\\\\\", \\\\\"Negatives--California--San Francisco Bay Area.\\\\\", \\\\\"Photographs--California--San Francisco Bay Area.\\\\\" ],\\\\n  \\\\\"format_ss\\\\\" : [ \\\\\"News photographs--California--San Francisco Bay Area.\\\\\", \\\\\"Negatives--California--San Francisco Bay Area.\\\\\", \\\\\"Photographs--California--San Francisco Bay Area.\\\\\" ],\\\\n  \\\\\"facet_decade\\\\\" : [ \\\\\"1930s\\\\\" ],\\\\n  \\\\\"harvest_id_s\\\\\" : \\\\\"27650--oai:digicoll.lib.berkeley.edu:127579\\\\\",\\\\n  \\\\\"sort_title\\\\\" : \\\\\"animals fleishhacker zoo\\\\\",\\\\n  \\\\\"campus_name\\\\\" : [ \\\\\"UC Berkeley\\\\\" ],\\\\n  \\\\\"date\\\\\" : [ \\\\\"1935-04-19\\\\\" ],\\\\n  \\\\\"date_ss\\\\\" : [ \\\\\"1935-04-19\\\\\" ],\\\\n  \\\\\"creator\\\\\" : [ \\\\\"Sheldon, George Elmer\\\\\" ],\\\\n  \\\\\"creator_ss\\\\\" : [ \\\\\"Sheldon, George Elmer\\\\\" ],\\\\n  \\\\\"sort_date_end\\\\\" : \\\\\"1935-04-19T00:00:00Z\\\\\",\\\\n  \\\\\"campus_data\\\\\" : [ \\\\\"https://registry.cdlib.org/api/v1/campus/1/::UC Berkeley\\\\\" ],\\\\n  \\\\\"extent\\\\\" : [ \\\\\"4 photographs film negatives\\\\\" ],\\\\n  \\\\\"extent_ss\\\\\" : [ \\\\\"4 photographs film negatives\\\\\" ],\\\\n  \\\\\"repository_url\\\\\" : [ \\\\\"https://registry.cdlib.org/api/v1/repository/4/\\\\\" ],\\\\n  \\\\\"id\\\\\" : \\\\\"9e5b09956a605bb7bc1862a1a48a8a40\\\\\",\\\\n  \\\\\"subject\\\\\" : [ \\\\\"News photographs--California--San Francisco Bay Area\\\\\", \\\\\"Negatives--California--San Francisco Bay Area\\\\\", \\\\\"Photographs--California--San Francisco Bay Area\\\\\" ],\\\\n  \\\\\"subject_ss\\\\\" : [ \\\\\"News photographs--California--San Francisco Bay Area\\\\\", \\\\\"Negatives--California--San Francisco Bay Area\\\\\", \\\\\"Photographs--California--San Francisco Bay Area\\\\\" ],\\\\n  \\\\\"collection_url\\\\\" : [ \\\\\"https://registry.cdlib.org/api/v1/collection/27650/\\\\\" ],\\\\n  \\\\\"repository_name\\\\\" : [ \\\\\"Bancroft Library\\\\\" ],\\\\n  \\\\\"reference_image_md5\\\\\" : \\\\\"f68b515dc49999c488140b61c6f8825d\\\\\",\\\\n  \\\\\"repository_data\\\\\" : [ \\\\\"https://registry.cdlib.org/api/v1/repository/4/::Bancroft Library::UC Berkeley\\\\\" ],\\\\n  \\\\\"rights\\\\\" : [ \\\\\"Researchers may make free and open use of the UC Berkeley Library\\'s digitized public domain materials. However, some materials in our online collections may be protected by U.S. copyright law (Title 17, U.S.C.). Use or reproduction of materials protected by copyright beyond that allowed by fair use (Title 17, U.S.C. \\xc2\\xa7 107) requires permission from the copyright owners. The use or reproduction of some materials may also be restricted by terms of University of California gift or purchase agreements, privacy and publicity rights, or trademark law. Responsibility for determining rights status and permissibility of any use or reproduction rests exclusively with the researcher. To learn more or make inquiries, please see our permissions policies (https://www.lib.berkeley.edu/about/permissions-policies).\\\\\" ],\\\\n  \\\\\"rights_ss\\\\\" : [ \\\\\"Researchers may make free and open use of the UC Berkeley Library\\'s digitized public domain materials. However, some materials in our online collections may be protected by U.S. copyright law (Title 17, U.S.C.). Use or reproduction of materials protected by copyright beyond that allowed by fair use (Title 17, U.S.C. \\xc2\\xa7 107) requires permission from the copyright owners. The use or reproduction of some materials may also be restricted by terms of University of California gift or purchase agreements, privacy and publicity rights, or trademark law. Responsibility for determining rights status and permissibility of any use or reproduction rests exclusively with the researcher. To learn more or make inquiries, please see our permissions policies (https://www.lib.berkeley.edu/about/permissions-policies).\\\\\" ],\\\\n  \\\\\"reference_image_dimensions\\\\\" : \\\\\"200:159\\\\\",\\\\n  \\\\\"campus_url\\\\\" : [ \\\\\"https://registry.cdlib.org/api/v1/campus/1/\\\\\" ],\\\\n  \\\\\"collection_data\\\\\" : [ \\\\\"https://registry.cdlib.org/api/v1/collection/27650/::SF Examiner\\\\\" ],\\\\n  \\\\\"sort_collection_data\\\\\" : [ \\\\\"sf examiner:SF Examiner:https://registry.cdlib.org/api/v1/collection/27650/\\\\\" ],\\\\n  \\\\\"collection_name\\\\\" : [ \\\\\"SF Examiner\\\\\" ],\\\\n  \\\\\"title\\\\\" : [ \\\\\"Animals, Fleishhacker Zoo\\\\\" ],\\\\n  \\\\\"title_ss\\\\\" : [ \\\\\"Animals, Fleishhacker Zoo\\\\\" ],\\\\n  \\\\\"identifier\\\\\" : [ \\\\\"BANC PIC 2006.029--NEG box 616, sleeve 092656_04\\\\\" ],\\\\n  \\\\\"identifier_ss\\\\\" : [ \\\\\"BANC PIC 2006.029--NEG box 616, sleeve 092656_04\\\\\" ],\\\\n  \\\\\"type\\\\\" : [ \\\\\"image\\\\\" ],\\\\n  \\\\\"type_ss\\\\\" : [ \\\\\"image\\\\\" ],\\\\n  \\\\\"sort_date_start\\\\\" : \\\\\"1935-04-19T00:00:00Z\\\\\",\\\\n  \\\\\"_version_\\\\\" : 1678472544868368384,\\\\n  \\\\\"timestamp\\\\\" : \\\\\"2020-09-21T19:22:36.834Z\\\\\"\\\\n}\"},\"provider\":{\"@id\":\"http://dp.la/api/contributor/cdl\",\"name\":\"California Digital Library\"},\"sourceResource\":{\"@id\":\"http://dp.la/api/items/f12657e9418dd06ff8193b0c3bb35147#SourceResource\",\"collection\":[{\"title\":\"SF Examiner\"}],\"creator\":[\"Sheldon, George Elmer\"],\"date\":[{\"displayDate\":\"1935-04-19\"}],\"description\":[\"Includes lambs, kangaroos, cayotes, donkeys with offsprings, goats and cats with kittens.\"],\"extent\":[\"4 photographs film negatives\"],\"format\":[\"News photographs--California--San Francisco Bay Area.\",\"Negatives--California--San Francisco Bay Area.\",\"Photographs--California--San Francisco Bay Area.\"],\"identifier\":[\"BANC PIC 2006.029--NEG box 616, sleeve 092656_04\"],\"rights\":[\"Researchers may make free and open use of the UC Berkeley Library\\'s digitized public domain materials. However, some materials in our online collections may be protected by U.S. copyright law (Title 17, U.S.C.). Use or reproduction of materials protected by copyright beyond that allowed by fair use (Title 17, U.S.C. \\xc2\\xa7 107) requires permission from the copyright owners. The use or reproduction of some materials may also be restricted by terms of University of California gift or purchase agreements, privacy and publicity rights, or trademark law. Responsibility for determining rights status and permissibility of any use or reproduction rests exclusively with the researcher. To learn more or make inquiries, please see our permissions policies (https://www.lib.berkeley.edu/about/permissions-policies).\"],\"subject\":[{\"name\":\"News photographs--California--San Francisco Bay Area\"},{\"name\":\"Negatives--California--San Francisco Bay Area\"},{\"name\":\"Photographs--California--San Francisco Bay Area\"}],\"title\":[\"Animals, Fleishhacker Zoo\"],\"type\":[\"image\"]},\"@type\":\"ore:Aggregation\",\"rightsCategory\":\"Unspecified Rights Status\"},{\"id\":\"fa19f595e7d62c307a059932f0102539\",\"@context\":\"http://dp.la/api/items/context\",\"@id\":\"http://dp.la/api/items/fa19f595e7d62c307a059932f0102539\",\"aggregatedCHO\":\"#sourceResource\",\"dataProvider\":\"Mystic Seaport\",\"ingestDate\":\"2021-05-20T19:47:26.301Z\",\"ingestType\":\"item\",\"isShownAt\":\"http://hdl.handle.net/11134/70002:2334\",\"object\":\"https://ctdigitalarchive.org/islandora/object/70002:2334/datastream/TN\",\"originalRecord\":{\"stringValue\":\"<mods \\\\nxmlns:mods=\\\\\"http://www.loc.gov/mods/v3\\\\\" xmlns:xlink=\\\\\"http://www.w3.org/1999/xlink\\\\\" xmlns:xsi=\\\\\"http://www.w3.org/2001/XMLSchema-instance\\\\\">\\\\n  <titleInfo supplied=\\\\\"yes\\\\\">\\\\n    <title>Crew and mascots on deck of Monitor-class gunboat, New London</title>\\\\n  </titleInfo>\\\\n  <name type=\\\\\"personal\\\\\" authority=\\\\\"local\\\\\">\\\\n    <namePart>Scholfield, E. A. (Everett Augustus), 1843-1930</namePart>\\\\n    <role>\\\\n      <roleTerm \\\\n      authority=\\\\\"marcrelator\\\\\" authorityURI=\\\\\"http://id.loc.gov/vocabulary/relators\\\\\" valueURI=\\\\\"http://id.loc.gov/vocabulary/relators/cre\\\\\" type=\\\\\"text\\\\\">\\\\n        Creator\\\\n</roleTerm>\\\\n    </role>\\\\n  </name>\\\\n  <typeOfResource>still image</typeOfResource>\\\\n  <genre>photographs</genre>\\\\n  <originInfo>\\\\n    <dateIssued \\\\n    encoding=\\\\\"w3cdtf\\\\\" keyDate=\\\\\"yes\\\\\" point=\\\\\"start\\\\\" qualifier=\\\\\"questionable\\\\\">\\\\n      1910\\\\n</dateIssued>\\\\n    <dateIssued encoding=\\\\\"w3cdtf\\\\\" point=\\\\\"end\\\\\" qualifier=\\\\\"questionable\\\\\">\\\\n      1919\\\\n    </dateIssued>\\\\n  </originInfo>\\\\n  <physicalDescription>\\\\n    <internetMediaType>image/tiff</internetMediaType>\\\\n    <digitalOrigin>reformatted digital</digitalOrigin>\\\\n    <note type=\\\\\"physical description\\\\\">\\\\n      Source extent: 1 photograph : gelatin glass negative ; 8 x 10 in.\\\\n    </note>\\\\n  </physicalDescription>\\\\n  <abstract>\\\\n    Crew members pose on the deck of a Monitor-class gunboat, New London. A sailor sitting in the front appears to be holding on to a goat. A cat can be seen in the right foreground.\\\\n  </abstract>\\\\n  <targetAudience>CHO</targetAudience>\\\\n  <note type=\\\\\"ownership\\\\\">Mystic Seaport</note>\\\\n  <note type=\\\\\"source note\\\\\">Scholfield Collection</note>\\\\n  <note type=\\\\\"theme\\\\\">Infrastructure</note>\\\\n  <note type=\\\\\"theme\\\\\">Lifestyle</note>\\\\n  <note>\\\\n    Title supplied by cataloger. Photograph attributed to Everett A. Scholfield, a professional photographer who worked primarily in Mystic and New London from 1865-1913.\\\\n  </note>\\\\n  <subject>\\\\n    <topic>Sailors</topic>\\\\n    <topic>Mascots</topic>\\\\n    <topic>Goats</topic>\\\\n    <topic>Cats</topic>\\\\n    <topic>Gunboats</topic>\\\\n    <topic>Boats and boating</topic>\\\\n    <geographic>New London (Conn.)</geographic>\\\\n    <name type=\\\\\"corporate\\\\\" authority=\\\\\"local\\\\\">\\\\n      <namePart>United States. Navy</namePart>\\\\n    </name>\\\\n  </subject>\\\\n  <identifier type=\\\\\"local\\\\\">Accession number: 1977.160.2109</identifier>\\\\n  <identifier type=\\\\\"local\\\\\">IMG0044-2332.tif</identifier>\\\\n  <accessCondition type=\\\\\"use and reproduction\\\\\">\\\\n    Copyright restrictions applying to use or reproduction of this image are available from Mystic Seaport.\\\\n  </accessCondition>\\\\n  <recordInfo>\\\\n    <recordContentSource>University of Connecticut Libraries</recordContentSource>\\\\n    <recordCreationDate encoding=\\\\\"w3cdtf\\\\\">2015-06-18-04:00</recordCreationDate>\\\\n    <languageOfCataloging>\\\\n      <languageTerm authority=\\\\\"iso639-2b\\\\\" type=\\\\\"code\\\\\">eng</languageTerm>\\\\n    </languageOfCataloging>\\\\n    <recordOrigin>\\\\n      This MODS record was migrated from CHO\\'s CONTENTdm.\\\\n    </recordOrigin>\\\\n  </recordInfo>\\\\n  <identifier type=\\\\\"hdl\\\\\" xmlns=\\\\\"http://www.loc.gov/mods/v3\\\\\">\\\\n    http://hdl.handle.net/11134/70002:2334\\\\n  </identifier>\\\\n</mods>\\\\n\"},\"provider\":{\"@id\":\"http://dp.la/api/contributor/ct\",\"name\":\"Connecticut Digital Archive\"},\"sourceResource\":{\"@id\":\"http://dp.la/api/items/fa19f595e7d62c307a059932f0102539#SourceResource\",\"creator\":[\"Scholfield, E. A. (Everett Augustus), 1843-1930\"],\"date\":[{\"displayDate\":\"1910\",\"begin\":\"1910\",\"end\":\"1910\"},{\"displayDate\":\"1919\",\"begin\":\"1919\",\"end\":\"1919\"}],\"description\":[\"Crew members pose on the deck of a Monitor-class gunboat, New London. A sailor sitting in the front appears to be holding on to a goat. A cat can be seen in the right foreground.\"],\"format\":[\"Photographs\"],\"identifier\":[\"Accession number: 1977.160.2109\",\"IMG0044-2332.tif\",\"http://hdl.handle.net/11134/70002:2334\"],\"rights\":[\"Copyright restrictions applying to use or reproduction of this image are available from Mystic Seaport.\"],\"spatial\":[{\"name\":\"New London (Conn.)\"}],\"subject\":[{\"name\":\"Sailors\"},{\"name\":\"Mascots\"},{\"name\":\"Goats\"},{\"name\":\"Cats\"},{\"name\":\"Gunboats\"},{\"name\":\"Boats and boating\"},{\"name\":\"United States. Navy\"}],\"title\":[\"Crew and mascots on deck of Monitor-class gunboat, New London\"],\"type\":[\"image\"]},\"@type\":\"ore:Aggregation\",\"rightsCategory\":\"Unspecified Rights Status\"},{\"id\":\"0ef24111ec8b6103eed46b5473b854ca\",\"@context\":\"http://dp.la/api/items/context\",\"@id\":\"http://dp.la/api/items/0ef24111ec8b6103eed46b5473b854ca\",\"aggregatedCHO\":\"#sourceResource\",\"dataProvider\":\"University of Southampton (archive.org)\",\"ingestDate\":\"2021-06-20T18:13:04.118Z\",\"ingestType\":\"item\",\"isShownAt\":\"https://www.biodiversitylibrary.org/item/177551\",\"object\":\"https://www.biodiversitylibrary.org/pagethumb/46606426\",\"originalRecord\":{\"stringValue\":\"<record \\\\nxmlns=\\\\\"http://www.openarchives.org/OAI/2.0/\\\\\" xmlns:xsi=\\\\\"http://www.w3.org/2001/XMLSchema-instance\\\\\">\\\\n  <header>\\\\n    <identifier>oai:biodiversitylibrary.org:item/177551</identifier>\\\\n    <datestamp>2016-07-11T08:43:20Z</datestamp>\\\\n    <setSpec>item</setSpec>\\\\n  </header>\\\\n  <metadata>\\\\n    <mods \\\\n    version=\\\\\"3.7\\\\\" xsi:schemaLocation=\\\\\"http://www.loc.gov/mods/v3 http://www.loc.gov/standards/mods/v3/mods-3-7.xsd\\\\\" xmlns:xlink=\\\\\"http://www.w3.org/1999/xlink\\\\\" xmlns:xsi=\\\\\"http://www.w3.org/2001/XMLSchema-instance\\\\\" xmlns=\\\\\"http://www.loc.gov/mods/v3\\\\\">\\\\n      <titleInfo>\\\\n        <title>\\\\n          Beeton\\'s farmer\\'s own book : comprising full and practical instructions on all points connected with the management of horses, cows, sheep, pigs, goats, fowls, ducks, geese, turkeys, and other live stock in health and sickness, for sale or breeding purposes : with chapters on the treatment of dogs and cats.\\\\n        </title>\\\\n      </titleInfo>\\\\n      <typeOfResource>text</typeOfResource>\\\\n      <genre authority=\\\\\"marcgt\\\\\">book</genre>\\\\n      <note type=\\\\\"ownership\\\\\">University of Southampton (archive.org)</note>\\\\n      <originInfo>\\\\n        <place>\\\\n          <placeTerm type=\\\\\"text\\\\\">London :</placeTerm>\\\\n        </place>\\\\n        <publisher>Ward Lock &amp; Co.,</publisher>\\\\n        <dateIssued>[1895?]</dateIssued>\\\\n        <dateIssued encoding=\\\\\"marc\\\\\" point=\\\\\"start\\\\\" keyDate=\\\\\"yes\\\\\">1895</dateIssued>\\\\n      </originInfo>\\\\n      <physicalDescription>\\\\n        <form authority=\\\\\"marcform\\\\\">print</form>\\\\n      </physicalDescription>\\\\n      <language>\\\\n        <languageTerm authority=\\\\\"iso639-2b\\\\\" type=\\\\\"text\\\\\">English</languageTerm>\\\\n      </language>\\\\n      <subject>\\\\n        <topic>Domestic animals</topic>\\\\n      </subject>\\\\n      <subject>\\\\n        <topic>Veterinary medicine</topic>\\\\n      </subject>\\\\n      <classification authority=\\\\\"lcc\\\\\">SF61 </classification>\\\\n      <identifier type=\\\\\"uri\\\\\">\\\\n        https://www.biodiversitylibrary.org/item/177551\\\\n      </identifier>\\\\n      <identifier type=\\\\\"doi\\\\\">10.5962/bhl.title.98766</identifier>\\\\n      <location>\\\\n        <physicalLocation>University of Southampton (archive.org)</physicalLocation>\\\\n        <url access=\\\\\"raw object\\\\\" usage=\\\\\"primary\\\\\">\\\\n          https://www.biodiversitylibrary.org/item/177551\\\\n        </url>\\\\n        <url access=\\\\\"object in context\\\\\" usage=\\\\\"primary display\\\\\">\\\\n          https://www.biodiversitylibrary.org/pagethumb/46606426\\\\n        </url>\\\\n      </location>\\\\n      <accessCondition type=\\\\\"useAndReproduction\\\\\">\\\\n        Not provided.  Contact Contributing Library to verify copyright status.\\\\n      </accessCondition>\\\\n</mods>\\\\n  </metadata>\\\\n</record>\\\\n\"},\"provider\":{\"@id\":\"http://dp.la/api/contributor/bhl\",\"name\":\"Biodiversity Heritage Library\"},\"sourceResource\":{\"@id\":\"http://dp.la/api/items/0ef24111ec8b6103eed46b5473b854ca#SourceResource\",\"date\":[{\"displayDate\":\"1895\",\"begin\":\"1895\",\"end\":\"1895\"}],\"format\":[\"Print\"],\"identifier\":[\"https://www.biodiversitylibrary.org/item/177551\",\"10.5962/bhl.title.98766\"],\"language\":[{\"name\":\"English\",\"iso639_3\":\"English\"}],\"publisher\":[\"London : Ward Lock & Co.\"],\"rights\":[\"Not provided. Contact Contributing Library to verify copyright status.\"],\"subject\":[{\"name\":\"Domestic animals\"},{\"name\":\"Veterinary medicine\"}],\"title\":[\"Beeton\\'s farmer\\'s own book : comprising full and practical instructions on all points connected with the management of horses, cows, sheep, pigs, goats, fowls, ducks, geese, turkeys, and other live stock in health and sickness, for sale or breeding purposes : with chapters on the treatment of dogs and cats\"],\"type\":[\"text\"]},\"@type\":\"ore:Aggregation\",\"rightsCategory\":\"Unspecified Rights Status\"},{\"@context\":\"http://dp.la/api/items/context\",\"rights\":\"http://rightsstatements.org/vocab/NoC-US/1.0/\",\"admin\":{\"object_status\":1},\"@id\":\"http://dp.la/api/items/81db685b2144513053982dea4baa6cc4\",\"object\":\"http://images.nypl.org/index.php?id=1697953&t=t\",\"aggregatedCHO\":\"#sourceResource\",\"ingestDate\":\"2018-10-05T02:22:10.040112Z\",\"@type\":\"ore:Aggregation\",\"isShownAt\":\"http://digitalcollections.nypl.org/items/68b9ef18-c59a-3b78-e040-e00a18066a15\",\"provider\":{\"@id\":\"http://dp.la/api/contributor/nypl\",\"name\":\"The New York Public Library\"},\"sourceResource\":{\"description\":[\"Compare this picture to a black & white version (Image ID: 1697956) from another edition of the book.\",\"Written under image: \\\\\"Robinson Crusoe [,] Illus. by Louis Rhead\\\\\". Crusoe with his little family of animals. The parrots and goat come from the island, while the cats and dog were saved from the shipwreck.\"],\"hasType\":\"\",\"format\":[\"Illustrations\",\"Halftone photomechanical prints\"],\"collection\":{\"@id\":\"http://dp.la/api/collections/00d3707526b0477b8fd0827000d0f6c4\",\"id\":\"00d3707526b0477b8fd0827000d0f6c4\",\"title\":\"Children\\'s book illustrations\"},\"stateLocatedIn\":[{\"name\":\"New York\"}],\"creator\":[\"Rhead, Louis (1857-1926)\"],\"relation\":[\"Book illustrations--Defoe--Robinson Crusoe\",\"Children\\'s book illustrations\"],\"extent\":[\"1 photomechanical print : halftone, col. ; 16 x 11 cm.\"],\"date\":{\"begin\":\"1900\",\"end\":\"1900\",\"displayDate\":\"1900\"},\"title\":\"I diverted myself with talking to my parrot\",\"@id\":\"http://dp.la/api/items/81db685b2144513053982dea4baa6cc4#sourceResource\",\"subject\":[{\"name\":\"Rifles\"},{\"name\":\"Castaways\"},{\"name\":\"Cats and dogs\"},{\"name\":\"Huts\"},{\"name\":\"Dogs\"},{\"name\":\"Cats\"},{\"name\":\"Parrots\"},{\"name\":\"Defoe, Daniel, 1661?-1731. Robinson Crusoe\"},{\"name\":\"Contentment\"},{\"name\":\"Pipes (Smoking)\"},{\"name\":\"Tools\"},{\"name\":\"Goats\"}]},\"ingestType\":\"item\",\"dataProvider\":\"Art and Picture Collection. The New York Public Library\",\"originalRecord\":{\"physicalDescription\":{\"extent\":\"1 photomechanical print : halftone, col. ; 16 x 11 cm.\"},\"tmp_high_res_link\":\"http://link.nypl.org/y4nmUmEbTryb1qfP8BlpxQu\",\"tmp_image_id\":\"1697953\",\"name\":{\"valueURI\":\"\",\"authority\":\"naf\",\"namePart\":\"Rhead, Louis (1857-1926)\",\"role\":{\"roleTerm\":[{\"#text\":\"ill\",\"valueURI\":\"http://id.loc.gov/vocabulary/relators/ill\",\"type\":\"code\",\"authority\":\"marcrelator\"},{\"#text\":\"Illustrator\",\"valueURI\":\"http://id.loc.gov/vocabulary/relators/ill\",\"type\":\"text\",\"authority\":\"marcrelator\"}]},\"usage\":\"primary\",\"type\":\"personal\"},\"identifier\":[{\"displayLabel\":\"Hades struc ID (legacy)\",\"#text\":\"1867453\",\"type\":\"local_hades\"},{\"#text\":\"21dd29b0-c5ba-012f-bd95-58d385a7bc34\",\"type\":\"uuid\"}],\"titleInfo\":{\"usage\":\"primary\",\"supplied\":\"no\",\"title\":\"I diverted myself with talking to my parrot\"},\"tmp_rights_statement\":\"The New York Public Library believes that this item is in the public domain under the laws of the United States, but did not make a determination as to its copyright status under the copyright laws of other countries. This item may not be in the public domain under the laws of other countries. Though not required, if you want to credit us as the source, please use the following statement, \\\\\"From The New York Public Library,\\\\\" and provide a link back to the item on our Digital Collections site. Doing so helps us track how our collection is used and helps justify freely releasing even more content in the future.\",\"collection\":{\"@id\":\"http://dp.la/api/collections/00d3707526b0477b8fd0827000d0f6c4\",\"id\":\"00d3707526b0477b8fd0827000d0f6c4\"},\"relatedItem\":{\"titleInfo\":{\"title\":\"Book illustrations -- Defoe -- Robinson Crusoe\"},\"type\":\"host\",\"identifier\":[{\"#text\":\"18392620-c5ba-012f-0bf1-58d385a7bc34\",\"type\":\"uuid\"},{\"#text\":\"1866526\",\"type\":\"local_hades\"}],\"relatedItem\":{\"titleInfo\":{\"title\":\"Children\\'s book illustrations\"},\"type\":\"host\",\"identifier\":[{\"#text\":\"a0108230-c5b9-012f-ed50-58d385a7bc34\",\"type\":\"uuid\"},{\"#text\":\"1866510\",\"type\":\"local_hades\"}]}},\"note\":[{\"#text\":\"Compare this picture to a black & white version (Image ID: 1697956) from another edition of the book.\",\"type\":\"content\"},{\"#text\":\"Written under image: \\\\\"Robinson Crusoe [,] Illus. by Louis Rhead\\\\\". Crusoe with his little family of animals. The parrots and goat come from the island, while the cats and dog were saved from the shipwreck.\",\"type\":\"content\"},{\"#text\":\"The life and strange surprising adventures of Robinson Crusoe of York, mariner. (New York : Harper Brothers, c1900) Defoe, Daniel (1661?-1731), Author. Rhead, F. A. (Frederick Alfred) (1855-), Illustrator. Rhead, Louis (1857-1926), Illustrator.\",\"type\":\"source note\"}],\"tmp_item_link\":\"http://digitalcollections.nypl.org/items/68b9ef18-c59a-3b78-e040-e00a18066a15\",\"originInfo\":{\"dateIssued\":{\"#text\":\"1900\",\"qualifier\":\"approximate\",\"keyDate\":\"yes\",\"encoding\":\"w3cdtf\"}},\"location\":[{\"physicalLocation\":[{\"#text\":\"nn\",\"type\":\"repository\",\"authority\":\"marcorg\"},{\"#text\":\"The Miriam and Ira D. Wallach Division of Art, Prints and Photographs: Picture Collection\",\"type\":\"division\"},{\"#text\":\"Wallach Division: Picture Collection\",\"type\":\"division_short_name\"},{\"#text\":\"MMPC\",\"type\":\"code\"}]},{\"shelfLocator\":\"PC-CHI BOOK-Def-Rob\"},{\"physicalLocation\":{\"#text\":\"Art and Picture Collection\",\"type\":\"division\"}}],\"version\":\"3.4\",\"provider\":{\"@id\":\"http://dp.la/api/contributor/nypl\",\"name\":\"The New York Public Library\"},\"genre\":[{\"#text\":\"Illustrations\",\"valueURI\":\"http://id.loc.gov/vocabulary/graphicMaterials/tgm005314\",\"authority\":\"lctgm\"},\"Halftone photomechanical prints\"],\"rightsStatementURI\":\"http://rightsstatements.org/vocab/NoC-US/1.0/\",\"schemaLocation\":\"http://www.loc.gov/mods/v3 http://www.loc.gov/standards/mods/v3/mods-3-4.xsd\",\"typeOfResource\":\"still image\",\"subject\":[{\"valueURI\":\"http://id.loc.gov/authorities/names/n81045585\",\"name\":{\"namePart\":\"Defoe, Daniel, 1661?-1731. Robinson Crusoe\",\"type\":\"personal\"},\"authority\":\"naf\"},{\"topic\":{\"#text\":\"Huts\",\"authority\":\"lctgm\"}},{\"topic\":{\"#text\":\"Dogs\",\"authority\":\"lctgm\"}},{\"topic\":{\"#text\":\"Goats\",\"authority\":\"lctgm\"}},{\"topic\":{\"#text\":\"Cats\",\"authority\":\"lctgm\"}},{\"topic\":{\"#text\":\"Rifles\",\"authority\":\"lctgm\"}},{\"topic\":{\"#text\":\"Pipes (Smoking)\",\"authority\":\"lctgm\"}},{\"topic\":{\"#text\":\"Parrots\",\"authority\":\"lctgm\"}},{\"topic\":{\"#text\":\"Castaways\",\"authority\":\"lctgm\"}},{\"topic\":{\"#text\":\"Contentment\",\"authority\":\"lctgm\"}},{\"topic\":{\"#text\":\"Tools\",\"authority\":\"lcsh\"}},{\"topic\":{\"#text\":\"Cats and dogs\",\"authority\":\"lcsh\"}}]},\"id\":\"81db685b2144513053982dea4baa6cc4\",\"rightsCategory\":\"Unlimited Re-Use\"},{\"id\":\"32f7682617421b08cae2f72550b8c9d2\",\"@context\":\"http://dp.la/api/items/context\",\"@id\":\"http://dp.la/api/items/32f7682617421b08cae2f72550b8c9d2\",\"aggregatedCHO\":\"#sourceResource\",\"dataProvider\":\"University of South Carolina. Moving Image Research Collections\",\"ingestDate\":\"2021-02-23T14:15:57.881Z\",\"ingestType\":\"item\",\"isShownAt\":\"http://digital.tcl.sc.edu/cdm/ref/collection/MVTN/id/74\",\"object\":\"https://digital.tcl.sc.edu/utils/getthumbnail/collection/MVTN/id/74\",\"originalRecord\":{\"stringValue\":\"<record \\\\nxmlns=\\\\\"http://www.openarchives.org/OAI/2.0/\\\\\" xmlns:xsi=\\\\\"http://www.w3.org/2001/XMLSchema-instance\\\\\">\\\\n  <header>\\\\n    <identifier>oai:scmemory-search.org:oai-digital-tcl-sc-edu-mvtn-74</identifier>\\\\n    <datestamp>2021-02-19T14:07:34Z</datestamp>\\\\n    <setSpec>Provider:4</setSpec>\\\\n  </header>\\\\n  <metadata>\\\\n    <qdc:qualifieddc \\\\n    xsi:schemaLocation=\\\\\"http://purl.org/dc/terms/          http://dublincore.org/schemas/xmls/qdc/2006/01/06/dcterms.xsd          http://purl.org/dc/elements/1.1/          http://dublincore.org/schemas/xmls/qdc/2006/01/06/dc.xsd\\\\\" xmlns:qdc=\\\\\"http://epubs.cclrc.ac.uk/xmlns/qdc/\\\\\" xmlns:dc=\\\\\"http://purl.org/dc/elements/1.1/\\\\\" xmlns:dcterms=\\\\\"http://purl.org/dc/terms/\\\\\" xmlns:xsi=\\\\\"http://www.w3.org/2001/XMLSchema-instance\\\\\">\\\\n      <dc:title>Delaney and her menagerie--outtakes</dc:title>\\\\n      <dc:creator>Fox News (Production unit)</dc:creator>\\\\n      <dc:date>1919-10</dc:date>\\\\n      <dc:description>\\\\n        Scenes of a Collie nursing puppies. Mrs. Lillian S. B. &quot;Sis&quot; Delaney feeding her animals including dogs, goats, chickens, cats, and pigs. More scenes of Mrs. Delaney with her thoroughbred Collies.\\\\n      </dc:description>\\\\n      <dc:identifier>\\\\n        http://digital.tcl.sc.edu/cdm/ref/collection/MVTN/id/74\\\\n      </dc:identifier>\\\\n      <dc:contributor>Reed (Camera operator)</dc:contributor>\\\\n      <dc:source>Fox News Story 0147</dc:source>\\\\n      <dc:rights>\\\\n        Copyright Moving Image Research Collections. All rights reserved. For further information please contact University of South Carolina, Moving Image Research Collections, Columbia, SC 29208.\\\\n      </dc:rights>\\\\n      <dc:subject>Animals.</dc:subject>\\\\n      <dc:subject>Pets.</dc:subject>\\\\n      <dc:subject>Collie.</dc:subject>\\\\n      <dc:subject>Dogs.</dc:subject>\\\\n      <dc:type>Moving Image</dc:type>\\\\n      <dc:publisher>\\\\n        University of South Carolina. Moving Image Research Collections\\\\n      </dc:publisher>\\\\n      <dcterms:medium>Motion pictures (visual works)</dcterms:medium>\\\\n      <dcterms:spatial>Lawrence (Mass.)</dcterms:spatial>\\\\n      <dcterms:hasFormat>\\\\n        https://digital.tcl.sc.edu/utils/getthumbnail/collection/MVTN/id/74\\\\n      </dcterms:hasFormat>\\\\n      <dcterms:isPartOf>Fox Movietone News Collection</dcterms:isPartOf>\\\\n</qdc:qualifieddc>\\\\n  </metadata>\\\\n</record>\\\\n\"},\"provider\":{\"@id\":\"http://dp.la/api/contributor/scdl\",\"name\":\"South Carolina Digital Library\"},\"sourceResource\":{\"@id\":\"http://dp.la/api/items/32f7682617421b08cae2f72550b8c9d2#SourceResource\",\"collection\":[{\"title\":\"Fox Movietone News Collection\"}],\"contributor\":[\"Reed (Camera operator)\"],\"creator\":[\"Fox News (Production unit)\"],\"date\":[{\"displayDate\":\"1919-10\"}],\"description\":[\"Scenes of a Collie nursing puppies. Mrs. Lillian S. B. \\\\\"Sis\\\\\" Delaney feeding her animals including dogs, goats, chickens, cats, and pigs. More scenes of Mrs. Delaney with her thoroughbred Collies.\"],\"format\":[\"Motion pictures (visual works)\"],\"identifier\":[\"http://digital.tcl.sc.edu/cdm/ref/collection/MVTN/id/74\"],\"relation\":[\"Fox News Story 0147\"],\"rights\":[\"Copyright Moving Image Research Collections. All rights reserved. For further information please contact University of South Carolina, Moving Image Research Collections, Columbia, SC 29208.\"],\"spatial\":[{\"name\":\"Lawrence (Mass.)\"}],\"subject\":[{\"name\":\"Animals\"},{\"name\":\"Pets\"},{\"name\":\"Collie\"},{\"name\":\"Dogs\"}],\"title\":[\"Delaney and her menagerie--outtakes\"],\"type\":[\"moving image\"]},\"@type\":\"ore:Aggregation\",\"rightsCategory\":\"Unspecified Rights Status\"},{\"id\":\"5e23de7a292952d928de10222711858e\",\"@context\":\"http://dp.la/api/items/context\",\"@id\":\"http://dp.la/api/items/5e23de7a292952d928de10222711858e\",\"aggregatedCHO\":\"#sourceResource\",\"dataProvider\":\"Smithsonian Archives - History Div\",\"ingestDate\":\"2021-06-21T23:26:04.226Z\",\"ingestType\":\"item\",\"isShownAt\":\"http://collections.si.edu/search/results.htm?q=record_ID=siris_sic_10344&repo=DPLA\",\"object\":\"http://ids.si.edu/ids/deliveryService?id=SIA-77-3197&max=150\",\"originalRecord\":{\"stringValue\":\"<doc>\\\\n  <descriptiveNonRepeating>\\\\n    <record_ID>siris_sic_10344</record_ID>\\\\n    <online_media>\\\\n      <media \\\\n      thumbnail=\\\\\"http://ids.si.edu/ids/deliveryService?id=SIA-77-3197&amp;max=150\\\\\" idsId=\\\\\"SIA-77-3197\\\\\" type=\\\\\"Images\\\\\">\\\\n        <usage>\\\\n          <access>Usage conditions apply</access>\\\\n          <text/>\\\\n        </usage>\\\\n        http://ids.si.edu/ids/deliveryService?id=SIA-77-3197\\\\n</media>\\\\n    </online_media>\\\\n    <unit_code>SIA-HIS</unit_code>\\\\n    <title_sort>1876 EXHIBIT ARTS AND INDUSTRIES BUILDING</title_sort>\\\\n    <record_link>\\\\n      http://collections.si.edu/search/results.htm?q=record_ID%3Asiris_sic_10344&amp;repo=DPLA\\\\n    </record_link>\\\\n    <title label=\\\\\"Title\\\\\">1876 Exhibit, Arts and Industries Building</title>\\\\n    <metadata_usage>\\\\n      <access>Usage conditions apply</access>\\\\n      <text/>\\\\n    </metadata_usage>\\\\n    <data_source>Smithsonian Archives - History Div</data_source>\\\\n  </descriptiveNonRepeating>\\\\n  <indexedStructured>\\\\n    <date>1970s</date>\\\\n    <tax_phylum>Chordata</tax_phylum>\\\\n    <object_type>Photographs</object_type>\\\\n    <object_type>Exhibitions (events)</object_type>\\\\n    <tax_class>Mammalia</tax_class>\\\\n    <sortdate>1977-01-01T00:00:00Z</sortdate>\\\\n    <name>1876: A Centennial Exhibition (1976 : Washington, D.C.)</name>\\\\n    <name>Arts and Industries Building</name>\\\\n    <topic>Taxidermy</topic>\\\\n    <topic>Cats</topic>\\\\n    <topic>Animals</topic>\\\\n    <topic>Goats</topic>\\\\n    <topic>Elk</topic>\\\\n    <topic>Exhibitions</topic>\\\\n    <topic>Seals (Animals)</topic>\\\\n    <topic>Mammals</topic>\\\\n    <topic>Bears</topic>\\\\n    <topic>Dolphins</topic>\\\\n    <tax_kingdom>Animalia</tax_kingdom>\\\\n    <usage_flag>Unknown</usage_flag>\\\\n    <usage_flag>SHI</usage_flag>\\\\n    <online_media_type>Images</online_media_type>\\\\n  </indexedStructured>\\\\n  <freetext>\\\\n    <date label=\\\\\"Date\\\\\">1977</date>\\\\n    <identifier label=\\\\\"Standard number\\\\\">77-3197</identifier>\\\\n    <notes label=\\\\\"Category\\\\\">Historic Images of the Smithsonian</notes>\\\\n    <notes label=\\\\\"Summary\\\\\">\\\\n      Display of mammals including stuffed bears, mounted deer and elk heads, and smaller animals in the Arts and Industries Building. This exhibit was part of &quot;1876: A Centennial Exhibition,&quot; a recreation of the 1876 Centennial Exhibition in Philadelphia. The exhibit was part of the celebration of the Bicentennial of the American Revolution.\\\\n    </notes>\\\\n    <notes label=\\\\\"Contained within\\\\\">\\\\n      Smithsonian Institution Archives, Record Unit 95, Box 42, Folder: 6\\\\n    </notes>\\\\n    <notes label=\\\\\"Contact information\\\\\">\\\\n      Institutional History Division, Smithsonian Institution Archives, 600 Maryland Avenue, S.W., Washington, D.C. 20024-2520, SIHistory@si.edu\\\\n    </notes>\\\\n    <name label=\\\\\"Author\\\\\">Unknown</name>\\\\n    <name label=\\\\\"Subject\\\\\">Arts and Industries Building</name>\\\\n    <name label=\\\\\"Subject\\\\\">\\\\n      1876: A Centennial Exhibition (Exhibition) (1976: Washington, D.C.)\\\\n    </name>\\\\n    <topic label=\\\\\"Topic\\\\\">Elk</topic>\\\\n    <topic label=\\\\\"Topic\\\\\">Fox</topic>\\\\n    <topic label=\\\\\"Topic\\\\\">Cats</topic>\\\\n    <topic label=\\\\\"Topic\\\\\">Goats</topic>\\\\n    <topic label=\\\\\"Topic\\\\\">Dolphins</topic>\\\\n    <topic label=\\\\\"Topic\\\\\">Taxidermy</topic>\\\\n    <topic label=\\\\\"Topic\\\\\">Animals</topic>\\\\n    <topic label=\\\\\"Topic\\\\\">Mammals</topic>\\\\n    <topic label=\\\\\"Topic\\\\\">Exhibitions</topic>\\\\n    <topic label=\\\\\"Topic\\\\\">Seals (Animals)</topic>\\\\n    <topic label=\\\\\"Topic\\\\\">Bears</topic>\\\\n    <topic label=\\\\\"Topic\\\\\">Deer</topic>\\\\n    <physicalDescription label=\\\\\"Physical description\\\\\">\\\\n      Color: Black and White; Size: 10w x 8h; Type of Image: Exhibit; Medium: Photographic print\\\\n    </physicalDescription>\\\\n    <dataSource label=\\\\\"Data Source\\\\\">Smithsonian Archives - History Div</dataSource>\\\\n    <objectRights label=\\\\\"Restrictions &amp; Rights\\\\\">No restrictions</objectRights>\\\\n    <objectType label=\\\\\"Type\\\\\">Photographic print</objectType>\\\\n    <objectType label=\\\\\"Type\\\\\">Exhibit</objectType>\\\\n  </freetext>\\\\n</doc>\"},\"provider\":{\"@id\":\"http://dp.la/api/contributor/smithsonian\",\"name\":\"Smithsonian Institution\"},\"sourceResource\":{\"@id\":\"http://dp.la/api/items/5e23de7a292952d928de10222711858e#SourceResource\",\"creator\":[\"Unknown\",\"Arts and Industries Building\",\"1876: A Centennial Exhibition (Exhibition) (1976: Washington, D.C.)\"],\"date\":[{\"displayDate\":\"1977\",\"begin\":\"1977\",\"end\":\"1977\"}],\"description\":[\"Historic Images of the Smithsonian\",\"Display of mammals including stuffed bears, mounted deer and elk heads, and smaller animals in the Arts and Industries Building. This exhibit was part of \\\\\"1876: A Centennial Exhibition,\\\\\" a recreation of the 1876 Centennial Exhibition in Philadelphia. The exhibit was part of the celebration of the Bicentennial of the American Revolution.\",\"Smithsonian Institution Archives, Record Unit 95, Box 42, Folder: 6\",\"Institutional History Division, Smithsonian Institution Archives, 600 Maryland Avenue, S.W., Washington, D.C. 20024-2520, SIHistory@si.edu\"],\"format\":[\"Color: Black and White; Size: 10w x 8h; Type of Image: Exhibit; Medium: Photographic print\"],\"subject\":[{\"name\":\"Taxidermy\"},{\"name\":\"Cats\"},{\"name\":\"Animals\"},{\"name\":\"Goats\"},{\"name\":\"Elk\"},{\"name\":\"Exhibitions\"},{\"name\":\"Seals (Animals)\"},{\"name\":\"Mammals\"},{\"name\":\"Bears\"},{\"name\":\"Dolphins\"},{\"name\":\"1876\"},{\"name\":\"A Centennial Exhibition (1976\"},{\"name\":\"Washington, D.C.)\"},{\"name\":\"Arts and Industries Building\"},{\"name\":\"Animalia\"},{\"name\":\"Chordata\"},{\"name\":\"Mammalia\"},{\"name\":\"Fox\"},{\"name\":\"Deer\"}],\"temporal\":[{\"displayDate\":\"1977\"}],\"title\":[\"1876 Exhibit, Arts and Industries Building\"]},\"@type\":\"ore:Aggregation\",\"rightsCategory\":\"Unspecified Rights Status\"},{\"id\":\"08df76ebf5f9b4ffb3be0f42899449e1\",\"@context\":\"http://dp.la/api/items/context\",\"@id\":\"http://dp.la/api/items/08df76ebf5f9b4ffb3be0f42899449e1\",\"aggregatedCHO\":\"#sourceResource\",\"dataProvider\":\"Smithsonian American Art Museum\",\"ingestDate\":\"2021-06-21T23:26:04.226Z\",\"ingestType\":\"item\",\"isShownAt\":\"http://collections.si.edu/search/results.htm?q=record_ID=saam_1958.11.21&repo=DPLA\",\"object\":\"https://ids.si.edu/ids/deliveryService?id=SAAM-1958.11.21_1\",\"originalRecord\":{\"stringValue\":\"<doc>\\\\n  <descriptiveNonRepeating>\\\\n    <record_ID>saam_1958.11.21</record_ID>\\\\n    <online_media>\\\\n      <media \\\\n      thumbnail=\\\\\"https://ids.si.edu/ids/deliveryService?id=SAAM-1958.11.21_1\\\\\" idsId=\\\\\"SAAM-1958.11.21_1\\\\\" guid=\\\\\"http://n2t.net/ark:/65665/bj9d11ddbef-0ecc-4e32-a134-c48b14ab7b71\\\\\" type=\\\\\"Images\\\\\">\\\\n        <usage>\\\\n          <access>CC0</access>\\\\n        </usage>\\\\n        https://ids.si.edu/ids/deliveryService?id=SAAM-1958.11.21_1\\\\n</media>\\\\n    </online_media>\\\\n    <unit_code>SAAM</unit_code>\\\\n    <title_sort>HEAD OF DOG</title_sort>\\\\n    <guid>http://n2t.net/ark:/65665/vk73a880bcd-32c3-49fa-9fc5-0b8d72696be8</guid>\\\\n    <record_link>\\\\n      http://collections.si.edu/search/results.htm?q=record_ID%3Asaam_1958.11.21&amp;repo=DPLA\\\\n    </record_link>\\\\n    <title label=\\\\\"Title\\\\\">Head of Dog</title>\\\\n    <metadata_usage>\\\\n      <access>CC0</access>\\\\n    </metadata_usage>\\\\n    <data_source>Smithsonian American Art Museum</data_source>\\\\n  </descriptiveNonRepeating>\\\\n  <indexedStructured>\\\\n    <date>1880s</date>\\\\n    <date>1870s</date>\\\\n    <object_type>Sculpture (visual work)</object_type>\\\\n    <name>Bartlett, Paul Wayland</name>\\\\n    <topic>Animals</topic>\\\\n    <topic>Dogs</topic>\\\\n    <usage_flag>permcoll</usage_flag>\\\\n    <online_media_type>Images</online_media_type>\\\\n  </indexedStructured>\\\\n  <freetext>\\\\n    <setName label=\\\\\"See more items in\\\\\">\\\\n      Smithsonian American Art Museum Collection\\\\n    </setName>\\\\n    <setName label=\\\\\"Department\\\\\">Painting and Sculpture</setName>\\\\n    <date label=\\\\\"Date\\\\\">modeled ca. 1877-1881</date>\\\\n    <identifier label=\\\\\"Object number\\\\\">1958.11.21</identifier>\\\\n    <notes label=\\\\\"Luce Center Label\\\\\">\\\\n      Paul Wayland Bartlett created many sculptures of animals during his early career in France. He studied the menagerie of wild creatures at the Jardin des Plantes in Paris and modeled sculptures of domestic animals such as cats, dogs, and goats. In the tradition of the animaliers, he often focused on facial expressions to capture the animal\\xe2\\x80\\x99s emotion.\\\\n    </notes>\\\\n    <creditLine label=\\\\\"Credit Line\\\\\">\\\\n      Smithsonian American Art Museum, Gift of Mrs. Armistead Peter III\\\\n    </creditLine>\\\\n    <name label=\\\\\"Artist\\\\\">\\\\n      Paul Wayland Bartlett, born New Haven, CT 1865-died Paris, France 1925\\\\n    </name>\\\\n    <topic label=\\\\\"Topic\\\\\">Animal\\\\\\\\dog</topic>\\\\n    <physicalDescription label=\\\\\"Medium\\\\\">bronze</physicalDescription>\\\\n    <physicalDescription label=\\\\\"Dimensions\\\\\">\\\\n      2 1/2 x 2 7/8 x 2 7/8 in. (6.4 x 7.3 x 7.3 cm)\\\\n    </physicalDescription>\\\\n    <dataSource label=\\\\\"Data Source\\\\\">Smithsonian American Art Museum</dataSource>\\\\n    <objectRights label=\\\\\"Restrictions &amp; Rights\\\\\">CC0</objectRights>\\\\n    <objectType label=\\\\\"Type\\\\\">Sculpture</objectType>\\\\n  </freetext>\\\\n</doc>\"},\"provider\":{\"@id\":\"http://dp.la/api/contributor/smithsonian\",\"name\":\"Smithsonian Institution\"},\"sourceResource\":{\"@id\":\"http://dp.la/api/items/08df76ebf5f9b4ffb3be0f42899449e1#SourceResource\",\"collection\":[{\"title\":\"Smithsonian American Art Museum Collection\"},{\"title\":\"Painting and Sculpture\"}],\"creator\":[\"Paul Wayland Bartlett, born New Haven, CT 1865-died Paris, France 1925\"],\"date\":[{\"displayDate\":\"modeled ca. 1877-1881\"}],\"description\":[\"Paul Wayland Bartlett created many sculptures of animals during his early career in France. He studied the menagerie of wild creatures at the Jardin des Plantes in Paris and modeled sculptures of domestic animals such as cats, dogs, and goats. In the tradition of the animaliers, he often focused on facial expressions to capture the animal\\xe2\\x80\\x99s emotion.\"],\"extent\":[\"2 1/2 x 2 7/8 x 2 7/8 in. (6.4 x 7.3 x 7.3 cm)\"],\"format\":[\"Bronze\"],\"rights\":[\"Smithsonian American Art Museum, Gift of Mrs. Armistead Peter III\"],\"subject\":[{\"name\":\"Animals\"},{\"name\":\"Dogs\"},{\"name\":\"Bartlett, Paul Wayland\"},{\"name\":\"Animal\"},{\"name\":\"Dog\"}],\"temporal\":[{\"displayDate\":\"modeled ca. 1877-1881\"}],\"title\":[\"Head of Dog\"],\"type\":[\"physical object\"]},\"@type\":\"ore:Aggregation\",\"rightsCategory\":\"Unspecified Rights Status\"},{\"id\":\"5365a569594b6afe495ede88351bc551\",\"@context\":\"http://dp.la/api/items/context\",\"@id\":\"http://dp.la/api/items/5365a569594b6afe495ede88351bc551\",\"aggregatedCHO\":\"#sourceResource\",\"dataProvider\":\"Smithsonian American Art Museum\",\"ingestDate\":\"2021-06-21T23:26:04.226Z\",\"ingestType\":\"item\",\"isShownAt\":\"http://collections.si.edu/search/results.htm?q=record_ID=saam_1958.11.22&repo=DPLA\",\"object\":\"https://ids.si.edu/ids/deliveryService?id=SAAM-1958.11.22_5\",\"originalRecord\":{\"stringValue\":\"<doc>\\\\n  <descriptiveNonRepeating>\\\\n    <record_ID>saam_1958.11.22</record_ID>\\\\n    <online_media>\\\\n      <media \\\\n      thumbnail=\\\\\"https://ids.si.edu/ids/deliveryService?id=SAAM-1958.11.22_5\\\\\" idsId=\\\\\"SAAM-1958.11.22_5\\\\\" guid=\\\\\"http://n2t.net/ark:/65665/bj9540fffe9-6a2b-42c4-be35-3797d950090a\\\\\" type=\\\\\"Images\\\\\">\\\\n        <usage>\\\\n          <access>CC0</access>\\\\n        </usage>\\\\n        https://ids.si.edu/ids/deliveryService?id=SAAM-1958.11.22_5\\\\n</media>\\\\n    </online_media>\\\\n    <unit_code>SAAM</unit_code>\\\\n    <title_sort>KID\\'S HEAD</title_sort>\\\\n    <guid>http://n2t.net/ark:/65665/vk7bb7ea342-b2a2-43fa-a70e-32fcf03215e5</guid>\\\\n    <record_link>\\\\n      http://collections.si.edu/search/results.htm?q=record_ID%3Asaam_1958.11.22&amp;repo=DPLA\\\\n    </record_link>\\\\n    <title label=\\\\\"Title\\\\\">Kid\\'s Head</title>\\\\n    <metadata_usage>\\\\n      <access>CC0</access>\\\\n    </metadata_usage>\\\\n    <data_source>Smithsonian American Art Museum</data_source>\\\\n  </descriptiveNonRepeating>\\\\n  <indexedStructured>\\\\n    <date>1880s</date>\\\\n    <date>1870s</date>\\\\n    <object_type>Sculpture (visual work)</object_type>\\\\n    <name>Bartlett, Paul Wayland</name>\\\\n    <topic>Animals</topic>\\\\n    <topic>Goat</topic>\\\\n    <usage_flag>permcoll</usage_flag>\\\\n    <online_media_type>Images</online_media_type>\\\\n  </indexedStructured>\\\\n  <freetext>\\\\n    <setName label=\\\\\"See more items in\\\\\">\\\\n      Smithsonian American Art Museum Collection\\\\n    </setName>\\\\n    <setName label=\\\\\"Department\\\\\">Painting and Sculpture</setName>\\\\n    <date label=\\\\\"Date\\\\\">modeled ca. 1877-1880</date>\\\\n    <identifier label=\\\\\"Object number\\\\\">1958.11.22</identifier>\\\\n    <notes label=\\\\\"Luce Center Label\\\\\">\\\\n      Paul Wayland Bartlett created many sculptures of animals during his early career in France. He studied the menagerie of wild creatures at the Jardin des Plantes in Paris and modeled sculptures of domestic animals such as cats, dogs, and goats. In the tradition of the animaliers, he often focused on facial expressions to capture the animal\\xe2\\x80\\x99s emotion.\\\\n    </notes>\\\\n    <creditLine label=\\\\\"Credit Line\\\\\">\\\\n      Smithsonian American Art Museum, Gift of Mrs. Armistead Peter III\\\\n    </creditLine>\\\\n    <name label=\\\\\"Artist\\\\\">\\\\n      Paul Wayland Bartlett, born New Haven, CT 1865-died Paris, France 1925\\\\n    </name>\\\\n    <topic label=\\\\\"Topic\\\\\">Animal\\\\\\\\goat</topic>\\\\n    <physicalDescription label=\\\\\"Medium\\\\\">bronze</physicalDescription>\\\\n    <physicalDescription label=\\\\\"Dimensions\\\\\">\\\\n      6 3/4 x 8 1/4 x 6 5/8 in. (17.2 x 20.8 x 16.8 cm)\\\\n    </physicalDescription>\\\\n    <dataSource label=\\\\\"Data Source\\\\\">Smithsonian American Art Museum</dataSource>\\\\n    <objectRights label=\\\\\"Restrictions &amp; Rights\\\\\">CC0</objectRights>\\\\n    <objectType label=\\\\\"Type\\\\\">Sculpture</objectType>\\\\n  </freetext>\\\\n</doc>\"},\"provider\":{\"@id\":\"http://dp.la/api/contributor/smithsonian\",\"name\":\"Smithsonian Institution\"},\"sourceResource\":{\"@id\":\"http://dp.la/api/items/5365a569594b6afe495ede88351bc551#SourceResource\",\"collection\":[{\"title\":\"Smithsonian American Art Museum Collection\"},{\"title\":\"Painting and Sculpture\"}],\"creator\":[\"Paul Wayland Bartlett, born New Haven, CT 1865-died Paris, France 1925\"],\"date\":[{\"displayDate\":\"modeled ca. 1877-1880\"}],\"description\":[\"Paul Wayland Bartlett created many sculptures of animals during his early career in France. He studied the menagerie of wild creatures at the Jardin des Plantes in Paris and modeled sculptures of domestic animals such as cats, dogs, and goats. In the tradition of the animaliers, he often focused on facial expressions to capture the animal\\xe2\\x80\\x99s emotion.\"],\"extent\":[\"6 3/4 x 8 1/4 x 6 5/8 in. (17.2 x 20.8 x 16.8 cm)\"],\"format\":[\"Bronze\"],\"rights\":[\"Smithsonian American Art Museum, Gift of Mrs. Armistead Peter III\"],\"subject\":[{\"name\":\"Animals\"},{\"name\":\"Goat\"},{\"name\":\"Bartlett, Paul Wayland\"},{\"name\":\"Animal\"},{\"name\":\"Goat\"}],\"temporal\":[{\"displayDate\":\"modeled ca. 1877-1880\"}],\"title\":[\"Kid\\'s Head\"],\"type\":[\"physical object\"]},\"@type\":\"ore:Aggregation\",\"rightsCategory\":\"Unspecified Rights Status\"}],\"facets\":[]}'\n"
     ]
    }
   ],
   "source": [
    "print(r.content)"
   ]
  },
  {
   "cell_type": "code",
   "execution_count": 37,
   "metadata": {},
   "outputs": [
    {
     "name": "stdout",
     "output_type": "stream",
     "text": [
      "b'\"Not Found\"'\n"
     ]
    }
   ],
   "source": [
    "params = {'api_key' : key['api_key'], 'q' : 'goats+AND+cats', 'page_size': 500}\n",
    "r = requests.get(url, params=params)\n",
    "print(r.content)"
   ]
  },
  {
   "cell_type": "code",
   "execution_count": null,
   "metadata": {},
   "outputs": [],
   "source": []
  }
 ],
 "metadata": {
  "kernelspec": {
   "display_name": "Python 3",
   "language": "python",
   "name": "python3"
  },
  "language_info": {
   "codemirror_mode": {
    "name": "ipython",
    "version": 3
   },
   "file_extension": ".py",
   "mimetype": "text/x-python",
   "name": "python",
   "nbconvert_exporter": "python",
   "pygments_lexer": "ipython3",
   "version": "3.7.6"
  }
 },
 "nbformat": 4,
 "nbformat_minor": 4
}
